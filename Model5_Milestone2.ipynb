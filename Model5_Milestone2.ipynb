{
  "nbformat": 4,
  "nbformat_minor": 0,
  "metadata": {
    "colab": {
      "name": "Model5_Milestone2.ipynb",
      "provenance": [],
      "collapsed_sections": [],
      "include_colab_link": true
    },
    "kernelspec": {
      "name": "python3",
      "display_name": "Python 3"
    }
  },
  "cells": [
    {
      "cell_type": "markdown",
      "metadata": {
        "id": "view-in-github",
        "colab_type": "text"
      },
      "source": [
        "<a href=\"https://colab.research.google.com/github/eneskosar/n-gram-Language-Model/blob/master/Model5_Milestone2.ipynb\" target=\"_parent\"><img src=\"https://colab.research.google.com/assets/colab-badge.svg\" alt=\"Open In Colab\"/></a>"
      ]
    },
    {
      "cell_type": "markdown",
      "metadata": {
        "id": "wioEVZHMhvut",
        "colab_type": "text"
      },
      "source": [
        "# Imports"
      ]
    },
    {
      "cell_type": "markdown",
      "metadata": {
        "id": "iq-VPupQMa6c",
        "colab_type": "text"
      },
      "source": [
        "- This implementatios is using gutenberg corpus for calculating n gram probabilities\n",
        "- for n = 1,2 gutenberg corpus provides good probabilities\n",
        "- for n = 3 poor results\n",
        "- for n = 4,5 almost all of the probabilities are zero\n",
        "\n",
        "- Only 1 n gram probabilitity whichg has 0 value causes vanishing of all probabilities for a sentence.So I inserted 0.001 for zero probabilities. Some better methods can be used.\n",
        "- I combined n gram probabilities for n = 1,2,3,4,5 for calculating probability score of a sentence.\n",
        "- I used higher weighths for 5 gram probabilities, lower weights for 1 gram probs\n",
        "-I obtained accuracy results as between 48%-52% for different weights and smoothing strategies \n",
        "- This results show that this method gives completely random answers. Because sentences have long distance dependencies. Since our model can find at most 3 gram probabilities, it can not capture long distance dependencies. Hence, this model can not capture the meaning and can not provide smart answers. "
      ]
    },
    {
      "cell_type": "code",
      "metadata": {
        "id": "uaUCOD1Yh0hd",
        "colab_type": "code",
        "colab": {
          "base_uri": "https://localhost:8080/",
          "height": 224
        },
        "outputId": "c14ce23b-53a4-46e2-d420-b5a9429af34c"
      },
      "source": [
        "from google.colab import drive\n",
        "drive.mount('/content/gdrive/')\n",
        "import nltk\n",
        "nltk.download('gutenberg')\n",
        "import nltk\n",
        "nltk.download('punkt')\n",
        "from nltk.corpus import gutenberg\n",
        "from nltk import bigrams, trigrams, ngrams\n",
        "from collections import Counter, defaultdict\n",
        "\n",
        "from nltk.corpus import brown\n",
        "nltk.download('brown')\n",
        "news_text = brown.words()\n",
        "fdist = nltk.FreqDist(w.lower() for w in news_text)\n",
        "import numpy as np\n",
        "import pickle\n",
        "\n",
        "with open('/content/gdrive/My Drive/Colab Notebooks/NLPproject/test_pairs.pkl','rb') as pkl:\n",
        "    test_pairs = pickle.load(pkl)\n",
        "\n"
      ],
      "execution_count": null,
      "outputs": [
        {
          "output_type": "stream",
          "text": [
            "Go to this URL in a browser: https://accounts.google.com/o/oauth2/auth?client_id=947318989803-6bn6qk8qdgf4n4g3pfee6491hc0brc4i.apps.googleusercontent.com&redirect_uri=urn%3aietf%3awg%3aoauth%3a2.0%3aoob&response_type=code&scope=email%20https%3a%2f%2fwww.googleapis.com%2fauth%2fdocs.test%20https%3a%2f%2fwww.googleapis.com%2fauth%2fdrive%20https%3a%2f%2fwww.googleapis.com%2fauth%2fdrive.photos.readonly%20https%3a%2f%2fwww.googleapis.com%2fauth%2fpeopleapi.readonly\n",
            "\n",
            "Enter your authorization code:\n",
            "··········\n",
            "Mounted at /content/gdrive/\n",
            "[nltk_data] Downloading package gutenberg to /root/nltk_data...\n",
            "[nltk_data]   Unzipping corpora/gutenberg.zip.\n",
            "[nltk_data] Downloading package punkt to /root/nltk_data...\n",
            "[nltk_data]   Unzipping tokenizers/punkt.zip.\n",
            "[nltk_data] Downloading package brown to /root/nltk_data...\n",
            "[nltk_data]   Unzipping corpora/brown.zip.\n"
          ],
          "name": "stdout"
        }
      ]
    },
    {
      "cell_type": "markdown",
      "metadata": {
        "id": "f7Q6aj7UEc03",
        "colab_type": "text"
      },
      "source": [
        "# N gram models created by using Gutenberg corpus"
      ]
    },
    {
      "cell_type": "code",
      "metadata": {
        "id": "TOPpdvAPh0lF",
        "colab_type": "code",
        "colab": {}
      },
      "source": [
        "# Create a placeholder for model\n",
        "modelbigram = defaultdict(lambda: defaultdict(lambda: 0))\n",
        "modeltrigram = defaultdict(lambda: defaultdict(lambda: 0))\n",
        "modelfourgram = defaultdict(lambda: defaultdict(lambda: 0))\n",
        "modelfivegram = defaultdict(lambda: defaultdict(lambda: 0))\n",
        "\n",
        "\n",
        "# Count frequency of co-occurance  \n",
        "for sentence in gutenberg.sents():\n",
        "    for w1, w2 in bigrams(sentence, pad_right=True, pad_left=True):\n",
        "        modelbigram[w1][w2] += 1\n",
        " \n",
        "# Let's transform the counts to probabilities\n",
        "for w1 in modelbigram:\n",
        "    total_count = float(sum(modelbigram[w1].values()))\n",
        "    for w2 in modelbigram[w1]:\n",
        "        modelbigram[w1][w2] /= total_count\n",
        "#############################################################################3\n",
        "for sentence in gutenberg.sents():\n",
        "    for w1, w2, w3 in trigrams(sentence, pad_right=True, pad_left=True):\n",
        "        modeltrigram[(w1, w2)][w3] += 1\n",
        " \n",
        "for w1_w2 in modeltrigram:\n",
        "    total_count = float(sum(modeltrigram[w1_w2].values()))\n",
        "    for w3 in modeltrigram[w1_w2]:\n",
        "        modeltrigram[w1_w2][w3] /= total_count\n",
        "###############################################################################\n",
        "for sentence in gutenberg.sents():\n",
        "    for w1, w2, w3, w4 in ngrams(sentence, pad_right=True, pad_left=True, n=4):\n",
        "        modelfourgram[(w1, w2, w3)][w4] += 1\n",
        " \n",
        "for w1_w2_w3 in modelfourgram:\n",
        "    total_count = float(sum(modelfourgram[w1_w2_w3].values()))\n",
        "    for w4 in modelfourgram[w1_w2_w3]:\n",
        "        modelfourgram[w1_w2_w3][w4] /= total_count\n",
        "###############################################################################\n",
        "for sentence in gutenberg.sents():\n",
        "    for w1, w2, w3, w4, w5 in ngrams(sentence, pad_right=True, pad_left=True, n=5):\n",
        "        modelfivegram[(w1, w2, w3, w4)][w5] += 1\n",
        " \n",
        "# Let's transform the counts to probabilities\n",
        "for w1_w2_w3_w4 in modelfivegram:\n",
        "    total_count = float(sum(modelfivegram[w1_w2_w3_w4].values()))\n",
        "    for w5 in modelfivegram[w1_w2_w3_w4]:\n",
        "        modelfivegram[w1_w2_w3_w4][w5] /= total_count"
      ],
      "execution_count": null,
      "outputs": []
    },
    {
      "cell_type": "markdown",
      "metadata": {
        "id": "t7UIjpgoErwN",
        "colab_type": "text"
      },
      "source": [
        "# Testing n grams"
      ]
    },
    {
      "cell_type": "code",
      "metadata": {
        "id": "0NR0tP0wDEiH",
        "colab_type": "code",
        "colab": {
          "base_uri": "https://localhost:8080/",
          "height": 71
        },
        "outputId": "24400fa1-a426-4635-8519-1f5b85abcf41"
      },
      "source": [
        "# fourgram: List of words which occurs after \"I want to\"\n",
        "fourgram = modelfourgram[\"he\", \"thought\", \"that\"]\n",
        "# prob = fourgram[\"play\"]: probability that \"play\" occurs after \"I want to\"\n",
        "prob = fourgram[\"play\"]\n",
        "print(fourgram)\n",
        "print(prob)"
      ],
      "execution_count": null,
      "outputs": [
        {
          "output_type": "stream",
          "text": [
            "defaultdict(<function <lambda>.<locals>.<lambda> at 0x7f155649bea0>, {'even': 0.14285714285714285, 'he': 0.42857142857142855, 'if': 0.14285714285714285, 'any': 0.14285714285714285, 'the': 0.14285714285714285, 'she': 0, 'play': 0})\n",
            "0\n"
          ],
          "name": "stdout"
        }
      ]
    },
    {
      "cell_type": "code",
      "metadata": {
        "id": "btelEpsHD23G",
        "colab_type": "code",
        "colab": {
          "base_uri": "https://localhost:8080/",
          "height": 71
        },
        "outputId": "011964c8-ba87-479a-d7cf-234e572a98fb"
      },
      "source": [
        "fivegram = modelfivegram[\"he\", \"thought\", \"that\",\"he\"]\n",
        "prob = fivegram[\"to\"]\n",
        "print(fivegram)\n",
        "print(prob)"
      ],
      "execution_count": null,
      "outputs": [
        {
          "output_type": "stream",
          "text": [
            "defaultdict(<function <lambda>.<locals>.<lambda> at 0x7f15114999d8>, {'was': 0.3333333333333333, 'had': 0.3333333333333333, 'might': 0.3333333333333333, 'to': 0})\n",
            "0\n"
          ],
          "name": "stdout"
        }
      ]
    },
    {
      "cell_type": "code",
      "metadata": {
        "id": "FZfvX2rueq4U",
        "colab_type": "code",
        "colab": {}
      },
      "source": [
        ""
      ],
      "execution_count": null,
      "outputs": []
    },
    {
      "cell_type": "code",
      "metadata": {
        "id": "P0x_ufL3dpM7",
        "colab_type": "code",
        "colab": {
          "base_uri": "https://localhost:8080/",
          "height": 71
        },
        "outputId": "c71a0a1f-ce57-44d1-88ef-3bcd8390611c"
      },
      "source": [
        "bigram = modelbigram[\"he\"]\n",
        "prob = bigram[\"thinks\"]\n",
        "print(bigram)\n",
        "print(prob)"
      ],
      "execution_count": null,
      "outputs": [
        {
          "output_type": "stream",
          "text": [
            "defaultdict(<function <lambda>.<locals>.<lambda> at 0x7ffa47584bf8>, {'was': 0.07352013694927471, 'had': 0.07451121722677718, 'thoroughly': 9.009820704567979e-05, 'will': 0.016397873682313723, 'went': 0.014595909541400127, 'did': 0.017839444995044598, 'darted': 0.00018019641409135957, 'has': 0.009685557257410578, 'looked': 0.0054058924227407875, 'would': 0.019190918100729794, 'could': 0.019100819893684114, 'should': 0.010721686638435896, 'believed': 0.0007207856563654383, 'says': 0.001756915037390756, 'never': 0.002657897107847554, 'regarded': 0.0001351473105685197, 'liked': 0.0006757365528425984, 'preferred': 0.00018019641409135957, 'fancied': 0.0001351473105685197, 'might': 0.010181097396161817, 'married': 0.00045049103522839894, 'reads': 4.504910352283989e-05, 'is': 0.032120010811784845, 'can': 0.00432471393819263, 'knows': 0.0011712766915938373, 'may': 0.007297954770700063, 'does': 0.002477700693756194, 'marries': 9.009820704567979e-05, 'came': 0.010991981259572934, 'must': 0.0050905486980809085, 'said': 0.05473466078025047, 'quite': 0.00018019641409135957, 'goes': 0.000855932966933958, 'like': 0.0001351473105685197, 'be': 0.004640057662852509, ',': 0.019551310928912515, 'to': 0.003423731867735832, '_will_': 4.504910352283989e-05, 'means': 0.00036039282818271914, 'thought': 0.004549959455806829, 'were': 0.003964321110009911, 'thinks': 0.0006306874493197585, 'soon': 0.0007207856563654383, 'replied': 0.002297504279664835, ';': 0.002117307865573475, 'seconded': 4.504910352283989e-05, 'ought': 0.0014866204162537165, '.': 0.00432471393819263, 'have': 0.002117307865573475, 'seemed': 0.0032435354536444723, 'with': 0.0009460311739796378, 'received': 0.000855932966933958, 'wrote': 0.0009910802775024777, 'really': 0.0013514731056851969, 'takes': 0.0007207856563654383, 'so': 0.0005856383457969186, 'mounts': 4.504910352283989e-05, 'sure': 4.504910352283989e-05, 'spoke': 0.003468780971258672, 'stood': 0.0036940264888728714, 'took': 0.0084692314622939, 'made': 0.009505360843319217, 'left': 0.002477700693756194, 'wished': 0.000855932966933958, 'knew': 0.005045499594558068, 'told': 0.0024326515902333545, 'got': 0.002117307865573475, 'furnished': 4.504910352283989e-05, 'wondered': 0.00022524551761419947, 'hoped': 0.0004955401387512388, 'recalled': 4.504910352283989e-05, 'stopt': 0.0001351473105685197, 'found': 0.004099468420578431, 'bends': 0.0001351473105685197, 'need': 0.00040544193170555904, 'meant': 0.0009460311739796378, 'rather': 0.0001351473105685197, 'added': 0.002297504279664835, 'writes': 0.00018019641409135957, 'see': 0.0004955401387512388, 'chiefly': 9.009820704567979e-05, 'advances': 4.504910352283989e-05, 'believes': 0.0001351473105685197, 'sometimes': 0.00036039282818271914, 'been': 0.0007658347598882782, 'not': 0.0036940264888728714, 'indeed': 9.009820704567979e-05, 'lost': 0.00040544193170555904, 'finds': 0.00040544193170555904, 'began': 0.0057212361474006665, 'and': 0.0037841246959185513, 'proceeded': 0.00036039282818271914, 'tells': 0.00040544193170555904, 'comes': 0.001306424002162357, 'hastily': 9.009820704567979e-05, 'holds': 0.0001351473105685197, 'make': 0.0005856383457969186, 'exclaimed': 0.0005405892422740788, 'next': 0.00018019641409135957, 'cannot': 0.0015316695197765565, 'prepared': 0.00036039282818271914, 'sighed': 0.0002702946211370394, 'seems': 0.0005405892422740788, 'anticipated': 4.504910352283989e-05, 'asks': 9.009820704567979e-05, 'answered': 0.00418956662762411, 'move': 4.504910352283989e-05, 'talked': 0.0009910802775024777, 'likes': 0.0002702946211370394, 'felt': 0.003153437246598793, 'continued': 0.001306424002162357, 'repeated': 0.0005856383457969186, 'resumed': 0.0002702946211370394, 'tried': 0.0006306874493197585, 'joyously': 4.504910352283989e-05, '?--': 9.009820704567979e-05, 'chuses': 4.504910352283989e-05, 'depended': 4.504910352283989e-05, 'became': 0.0013514731056851969, 'begun': 9.009820704567979e-05, 'turn': 0.0004955401387512388, 'appeared': 0.0008108838634111181, 'rendered': 9.009820704567979e-05, 'sought': 0.0008108838634111181, 'truly': 9.009820704567979e-05, 'handsome': 4.504910352283989e-05, 'agreeable': 4.504910352283989e-05, 'appear': 9.009820704567979e-05, 'understood': 0.00045049103522839894, 'cared': 0.00031534372465987924, '--': 0.0002702946211370394, 'a': 0.0006306874493197585, 'lamented': 4.504910352283989e-05, 'set': 0.0027479953148932335, 'gave': 0.004504910352283989, 'certainly': 0.0006757365528425984, 'walked': 0.002117307865573475, 'staid': 9.009820704567979e-05, 'contrived': 0.0001351473105685197, 'wound': 9.009820704567979e-05, 'sees': 0.0005856383457969186, 'paid': 0.00018019641409135957, 'saw': 0.010316244706730336, '(': 0.00031534372465987924, 'fully': 9.009820704567979e-05, '?': 0.0011262275880709973, 'loved': 0.0016217677268222362, '_did_': 4.504910352283989e-05, 'shewed': 0.0006757365528425984, 'acknowledged': 9.009820704567979e-05, 'held': 0.001261374898639517, '--\"': 0.00022524551761419947, 'kept': 0.001306424002162357, 'stopped': 0.0009910802775024777, 'saved': 0.00036039282818271914, 'owned': 4.504910352283989e-05, 'then': 0.0006306874493197585, 'marry': 4.504910352283989e-05, 'bear': 0.00018019641409135957, 'always': 0.0010811784845481576, 'wanted': 0.0019821605550049554, 'wishes': 9.009820704567979e-05, 'smiled': 0.00031534372465987924, 'attended': 0.0001351473105685197, 'valued': 9.009820704567979e-05, 'asked': 0.0036940264888728714, 'dined': 4.504910352283989e-05, 'very': 0.00040544193170555904, 'directly': 4.504910352283989e-05, 'either': 4.504910352283989e-05, 'say': 0.00040544193170555904, 'gravely': 0.00018019641409135957, 'ended': 9.009820704567979e-05, 'entered': 0.001306424002162357, 'almost': 0.00040544193170555904, 'ran': 0.0023876024867105143, 'reappeared': 4.504910352283989e-05, 'sat': 0.0031083881430759527, 'dared': 0.0001351473105685197, 'deserves': 0.00031534372465987924, 'try': 4.504910352283989e-05, 'called': 0.004865303180466709, 'deliberately': 0.0001351473105685197, 'or': 0.0006306874493197585, 'coolly': 9.009820704567979e-05, 'understands': 9.009820704567979e-05, 'by': 0.0002702946211370394, 'necessarily': 4.504910352283989e-05, 'contrive': 4.504910352283989e-05, 'presently': 0.0001351473105685197, 'passed': 0.0018019641409135958, 'ever': 0.001261374898639517, 'sanguinely': 4.504910352283989e-05, 'but': 0.00036039282818271914, 'only': 0.0012163257951166772, 'cut': 0.00045049103522839894, 'avoid': 4.504910352283989e-05, 'joined': 0.00036039282818271914, 'continue': 0.0001351473105685197, 'at': 0.0009460311739796378, 'admired': 9.009820704567979e-05, 'doubted': 4.504910352283989e-05, ':': 0.0004955401387512388, 'calmly': 9.009820704567979e-05, 'known': 9.009820704567979e-05, 'relented': 4.504910352283989e-05, 'murmured': 0.0001351473105685197, '?\"': 0.0005405892422740788, 'declined': 0.0001351473105685197, 'suddenly': 0.0008108838634111181, 'even': 0.0005856383457969186, 'quitted': 0.0001351473105685197, 'tell': 0.0001351473105685197, 'decidedly': 4.504910352283989e-05, 'mean': 0.0001351473105685197, 'shook': 0.0005405892422740788, 'now': 0.0015767186232993964, 'once': 0.00045049103522839894, 'changed': 0.00018019641409135957, 'first': 0.0004955401387512388, 'succeeded': 9.009820704567979e-05, 'expressed': 0.00022524551761419947, 'observed': 0.0005405892422740788, 'neither': 0.00022524551761419947, 'quietly': 0.00018019641409135957, 'concluded': 9.009820704567979e-05, 'generally': 0.0001351473105685197, 'who': 0.001711865933867916, 'still': 0.0009009820704567979, 'cried': 0.006442021803766105, 'heard': 0.00432471393819263, 'lived': 0.0007658347598882782, 'endeavoured': 4.504910352283989e-05, 'suffers': 0.0001351473105685197, 'confessed': 9.009820704567979e-05, 'trusted': 0.0002702946211370394, 'returned': 0.0014415713127308766, 'grew': 0.00045049103522839894, 'considers': 9.009820704567979e-05, 'deserved': 0.0002702946211370394, 'than': 9.009820704567979e-05, 'intends': 0.0001351473105685197, 'followed': 0.00022524551761419947, 'used': 0.0004955401387512388, 'named': 0.0002702946211370394, 'wants': 0.00036039282818271914, 'laughed': 0.00036039282818271914, 'gratefully': 4.504910352283989e-05, 'travel': 9.009820704567979e-05, 'offered': 0.000855932966933958, 'turned': 0.003964321110009911, 'conducted': 9.009820704567979e-05, 'belonged': 0.0002702946211370394, 'laid': 0.0011712766915938373, 'sailor': 4.504910352283989e-05, 'shortly': 4.504910352283989e-05, 'hastened': 0.00018019641409135957, 'mentioned': 0.00022524551761419947, 'in': 0.0016668168303450761, 'abominates': 4.504910352283989e-05, 'died': 0.0029281917289845933, 'reached': 0.0006306874493197585, 'actually': 0.0002702946211370394, 'know': 0.0004955401387512388, 'more': 0.0001351473105685197, 'met': 0.0007207856563654383, 'steps': 9.009820704567979e-05, 'pleases': 0.0002702946211370394, 'coming': 4.504910352283989e-05, 'started': 0.0007207856563654383, 'recommended': 4.504910352283989e-05, 'dropped': 0.00031534372465987924, 'spent': 0.00022524551761419947, 'drove': 0.00018019641409135957, 'varnished': 4.504910352283989e-05, 'carpentered': 4.504910352283989e-05, 'glued': 4.504910352283989e-05, 'fashioned': 4.504910352283989e-05, 'showed': 0.0002702946211370394, 'sent': 0.004955401387512388, 'reasoned': 0.0001351473105685197, 'put': 0.004775204973421029, 'brought': 0.00405441931705559, 'examined': 0.00031534372465987924, 'recollected': 0.00031534372465987924, 'burst': 0.0002702946211370394, 'announced': 9.009820704567979e-05, 'discovered': 0.0001351473105685197, 'talks': 0.00018019641409135957, 'admires': 9.009820704567979e-05, 'listened': 0.00036039282818271914, 'pretend': 9.009820704567979e-05, 'welcomed': 4.504910352283989e-05, 'questioned': 0.0001351473105685197, 'supposed': 0.0002702946211370394, 'judged': 0.0007207856563654383, 'agreed': 0.00018019641409135957, 'gently': 9.009820704567979e-05, 'particularly': 4.504910352283989e-05, 'pleased': 0.0005856383457969186, 'encountered': 4.504910352283989e-05, 'kisses': 4.504910352283989e-05, 'bears': 9.009820704567979e-05, 'learnt': 0.0001351473105685197, 'offers': 4.504910352283989e-05, 'appears': 0.0001351473105685197, 'chose': 0.0005405892422740788, 'often': 0.00022524551761419947, 'confided': 4.504910352283989e-05, 'committed': 0.0001351473105685197, 'repeats': 4.504910352283989e-05, 'happened': 0.00040544193170555904, 'played': 0.00018019641409135957, 'disappeared': 0.00018019641409135957, 'calculates': 4.504910352283989e-05, 'drew': 0.0010811784845481576, 'protested': 4.504910352283989e-05, 'invited': 0.00018019641409135957, 'intended': 0.0001351473105685197, 'promised': 0.0007658347598882782, 'meditated': 4.504910352283989e-05, 'answer': 9.009820704567979e-05, 'required': 0.0001351473105685197, 'finally': 0.0002702946211370394, 'engaged': 9.009820704567979e-05, 'assured': 4.504910352283989e-05, 'hung': 0.0001351473105685197, 'resembled': 4.504910352283989e-05, 'delighted': 0.0002702946211370394, 'esteems': 4.504910352283989e-05, 'chanced': 0.0001351473105685197, 'most': 0.00022524551761419947, 'bore': 0.00031534372465987924, 'apologized': 4.504910352283989e-05, 'come': 0.0009460311739796378, 'resided': 4.504910352283989e-05, 'danced': 4.504910352283989e-05, 'united': 4.504910352283989e-05, 'read': 0.0005405892422740788, 'strongly': 0.0001351473105685197, 'displayed': 4.504910352283989e-05, 'threatened': 9.009820704567979e-05, 'cheated': 4.504910352283989e-05, 'kissed': 0.00018019641409135957, 'merely': 0.00018019641409135957, 'warmly': 0.0001351473105685197, 'dares': 0.0001351473105685197, 'feels': 0.00022524551761419947, 'praised': 9.009820704567979e-05, 'affects': 4.504910352283989e-05, 'possesses': 9.009820704567979e-05, 'detested': 4.504910352283989e-05, 'constantly': 9.009820704567979e-05, 'scolded': 4.504910352283989e-05, 'won': 0.0006306874493197585, 'hardly': 9.009820704567979e-05, 'live': 0.00031534372465987924, 'visited': 4.504910352283989e-05, 'feigned': 9.009820704567979e-05, 'injured': 4.504910352283989e-05, 'immediately': 0.00036039282818271914, 'recovered': 0.0002702946211370394, 'loves': 0.0001351473105685197, 'grows': 0.00018019641409135957, \"'\": 0.010676637534913056, 'hesitatingly': 4.504910352283989e-05, 'treated': 9.009820704567979e-05, 'imagine': 4.504910352283989e-05, 'behaved': 0.0001351473105685197, 'eyed': 4.504910352283989e-05, 'noticed': 0.00018019641409135957, 'instantly': 9.009820704567979e-05, 'HAS': 9.009820704567979e-05, 'candidly': 4.504910352283989e-05, 'himself': 0.0015316695197765565, 'communicated': 4.504910352283989e-05, 'stepped': 0.0005405892422740788, 'smirked': 4.504910352283989e-05, 'flew': 0.00040544193170555904, 'hears': 0.00036039282818271914, 'written': 4.504910352283989e-05, 'DID': 0.0001351473105685197, 'begged': 0.0001351473105685197, 'consent': 4.504910352283989e-05, 'think': 4.504910352283989e-05, 'repair': 4.504910352283989e-05, 'SHOULD': 4.504910352283989e-05, ':--\"': 4.504910352283989e-05, 'declared': 0.0004955401387512388, 'hesitated': 0.0002702946211370394, 'NOT': 4.504910352283989e-05, 'reminded': 9.009820704567979e-05, 'pressed': 0.00018019641409135957, 'whom': 0.0005405892422740788, 'perhaps': 4.504910352283989e-05, 'regrets': 4.504910352283989e-05, 'regret': 4.504910352283989e-05, 'waited': 0.00022524551761419947, 'merited': 4.504910352283989e-05, 'fell': 0.002207406072619155, 'rated': 4.504910352283989e-05, 'no': 0.00040544193170555904, 'owed': 4.504910352283989e-05, 'rested': 0.0001351473105685197, 'usually': 0.0001351473105685197, 'considered': 0.00018019641409135957, 'feared': 0.0006306874493197585, 'naturally': 4.504910352283989e-05, 'erred': 9.009820704567979e-05, 'long': 4.504910352283989e-05, 'fled': 0.0006757365528425984, 'Seas': 4.504910352283989e-05, 'him': 0.00022524551761419947, 'them': 0.00045049103522839894, 'slept': 0.0002702946211370394, 'shall': 0.03865213082259663, 'placed': 0.0004955401387512388, 'also': 0.002567798900801874, 'builded': 0.00018019641409135957, 'begat': 0.0009910802775024777, 'stayed': 0.0002702946211370394, 'man': 4.504910352283989e-05, 'planted': 4.504910352283989e-05, 'drank': 0.00022524551761419947, 'departed': 0.0016217677268222362, 'an': 4.504910352283989e-05, 'removed': 0.0005856383457969186, 'entreated': 4.504910352283989e-05, 'asses': 4.504910352283989e-05, 'dwelt': 0.0004955401387512388, 'armed': 0.00018019641409135957, 'divided': 0.00031534372465987924, 'blessed': 0.0007658347598882782, 'that': 0.02554284169745022, 'counted': 0.00022524551761419947, 'hath': 0.022074060726191547, 'beget': 0.0001351473105685197, 'lift': 0.00022524551761419947, 'hasted': 0.0001351473105685197, 'spake': 0.004775204973421029, 'bowed': 0.0006757365528425984, 'lingered': 9.009820704567979e-05, 'overthrew': 9.009820704567979e-05, 'perceived': 0.00031534372465987924, 'communed': 9.009820704567979e-05, 'arose': 0.001711865933867916, 'ungirded': 4.504910352283989e-05, 'given': 0.00022524551761419947, 'worshipped': 0.00022524551761419947, 'lifted': 0.0009009820704567979, 'yet': 0.0009460311739796378, 'sware': 0.000855932966933958, 'sold': 0.00040544193170555904, 'loveth': 0.00022524551761419947, 'discerned': 4.504910352283989e-05, 'smelled': 4.504910352283989e-05, 'rightly': 4.504910352283989e-05, 'forget': 9.009820704567979e-05, 'lighted': 0.0002702946211370394, 'dreamed': 0.0002702946211370394, 'well': 0.0001351473105685197, 'abode': 0.00036039282818271914, 'opened': 0.0008108838634111181, 'lay': 0.0009910802775024777, 'goats': 0.0011262275880709973, 'gotten': 4.504910352283989e-05, 'carried': 0.0011712766915938373, 'rose': 0.001306424002162357, 'out': 0.00018019641409135957, 'searched': 9.009820704567979e-05, 'commanded': 0.002162356969096315, 'cometh': 0.0018470132444364357, 'lodged': 0.0001351473105685197, 'delivered': 0.0007658347598882782, 'the': 0.0011712766915938373, 'prevailed': 4.504910352283989e-05, 'touched': 0.00045049103522839894, 'wrestled': 4.504910352283989e-05, 'halted': 9.009820704567979e-05, 'urged': 0.00018019641409135957, 'bought': 0.0002702946211370394, 'erected': 9.009820704567979e-05, 'deal': 9.009820704567979e-05, 'built': 0.001711865933867916, 'poured': 0.00036039282818271914, 'fed': 0.0001351473105685197, 'rent': 0.0005856383457969186, 'refused': 0.0004955401387512388, 'spilled': 4.504910352283989e-05, 'slew': 0.0014866204162537165, 'die': 0.001306424002162357, 'served': 0.00018019641409135957, 'hearkened': 0.00040544193170555904, 'restored': 0.0001351473105685197, 'hanged': 0.0001351473105685197, 'interpreted': 9.009820704567979e-05, 'shaved': 4.504910352283989e-05, 'sheweth': 0.0001351473105685197, 'gathered': 0.0005856383457969186, 'up': 9.009820704567979e-05, 'Ephraim': 4.504910352283989e-05, 'saith': 0.0036940264888728714, 'it': 0.0007207856563654383, 'besought': 0.0001351473105685197, 'unto': 0.0014866204162537165, 'espied': 9.009820704567979e-05, 'washed': 0.00022524551761419947, 'divineth': 4.504910352283989e-05, 'overtook': 0.00022524551761419947, 'alone': 0.00031534372465987924, 'seeth': 0.0007658347598882782, 'wept': 0.00031534372465987924, 'stooped': 0.00022524551761419947, 'couched': 4.504910352283989e-05, 'giveth': 0.0006757365528425984, 'charged': 0.0005405892422740788, 'comforted': 9.009820704567979e-05, 'spied': 0.0002702946211370394, 'led': 0.0009460311739796378, 'cast': 0.0009009820704567979, 'let': 0.0011712766915938373, 'fall': 0.0002702946211370394, 'drive': 4.504910352283989e-05, 'send': 0.0001351473105685197, 'hardened': 9.009820704567979e-05, 'refuseth': 4.504910352283989e-05, 'goeth': 0.0009910802775024777, 'hearken': 4.504910352283989e-05, 'sinned': 0.0002702946211370394, 'smote': 0.0012163257951166772, 'eat': 0.00036039282818271914, 'pursued': 0.0002702946211370394, 'thrown': 9.009820704567979e-05, 'proved': 4.504910352283989e-05, 'heareth': 0.0004955401387512388, 'encamped': 4.504910352283989e-05, 'break': 0.00018019641409135957, 'take': 0.0006306874493197585, 'do': 0.0009460311739796378, 'rise': 4.504910352283989e-05, 'smite': 0.00018019641409135957, 'sleep': 0.00018019641409135957, 'crieth': 9.009820704567979e-05, 'sprinkled': 0.00022524551761419947, 'dresseth': 4.504910352283989e-05, 'bring': 0.00036039282818271914, 'hewed': 4.504910352283989e-05, 'filled': 0.00022524551761419947, 'coupled': 0.0001351473105685197, 'upon': 0.0001351473105685197, 'for': 0.00036039282818271914, 'overlaid': 0.0007207856563654383, 'of': 0.0006757365528425984, 'spread': 0.0001351473105685197, 'burnt': 0.0005405892422740788, 'reared': 0.00022524551761419947, 'wash': 0.00018019641409135957, 'offer': 0.0002702946211370394, 'carry': 9.009820704567979e-05, 'burned': 0.00018019641409135957, 'doeth': 0.0006306874493197585, 'touch': 4.504910352283989e-05, 'knoweth': 0.0012163257951166772, 'wist': 0.00018019641409135957, 'guilty': 4.504910352283989e-05, 'sprinkle': 0.0001351473105685197, 'offereth': 9.009820704567979e-05, 'presented': 0.00022524551761419947, 'anointed': 9.009820704567979e-05, 'girded': 9.009820704567979e-05, 'killed': 0.0002702946211370394, 'consecrate': 4.504910352283989e-05, 'dipped': 9.009820704567979e-05, 'cheweth': 0.00018019641409135957, 'divide': 9.009820704567979e-05, 'clean': 9.009820704567979e-05, 'lambs': 4.504910352283989e-05, 'lamb': 0.0001351473105685197, 'lieth': 0.0002702946211370394, 'sitteth': 0.00018019641409135957, 'rideth': 4.504910352283989e-05, 'toucheth': 0.00018019641409135957, 'kill': 9.009820704567979e-05, 'burn': 0.0001351473105685197, 'uncovereth': 9.009820704567979e-05, 'go': 0.0006306874493197585, 'profane': 9.009820704567979e-05, 'blasphemeth': 4.504910352283989e-05, 'sell': 4.504910352283989e-05, 'redeem': 9.009820704567979e-05, 'depart': 4.504910352283989e-05, 'return': 0.00031534372465987924, 'give': 0.00045049103522839894, 'sanctify': 9.009820704567979e-05, 'change': 9.009820704567979e-05, 'numbered': 0.00022524551761419947, 'consecrated': 9.009820704567979e-05, 'drink': 4.504910352283989e-05, 'separateth': 9.009820704567979e-05, 'shave': 4.504910352283989e-05, 'vowed': 4.504910352283989e-05, 'behold': 9.009820704567979e-05, 'sinneth': 0.00018019641409135957, 'cause': 0.0001351473105685197, 'purify': 4.504910352283989e-05, 'fought': 0.00040544193170555904, 'looketh': 0.0002702946211370394, 'beheld': 0.00031534372465987924, 'spoken': 4.504910352283989e-05, 'seen': 0.0001351473105685197, 'perish': 4.504910352283989e-05, 'establisheth': 4.504910352283989e-05, 'confirmeth': 4.504910352283989e-05, 'inheriteth': 4.504910352283989e-05, 'stand': 0.0002702946211370394, 'meeteth': 9.009820704567979e-05, 'thrust': 0.00031534372465987924, 'destroyed': 0.00022524551761419947, 'liveth': 0.00036039282818271914, 'humbled': 0.0001351473105685197, 'which': 0.0011712766915938373, 'hated': 0.0002702946211370394, 'shut': 0.00036039282818271914, 'hateth': 0.0001351473105685197, 'wanteth': 9.009820704567979e-05, 'cry': 9.009820704567979e-05, 'multiply': 4.504910352283989e-05, 'greatly': 4.504910352283989e-05, 'sojourned': 0.00018019641409135957, 'maketh': 0.0011262275880709973, 'taketh': 0.0004955401387512388, 'treadeth': 0.0001351473105685197, 'bless': 4.504910352283989e-05, 'fetch': 4.504910352283989e-05, 'rejoiced': 0.00018019641409135957, 'thy': 4.504910352283989e-05, 'separated': 4.504910352283989e-05, 'instructed': 9.009820704567979e-05, 'forsook': 0.00031534372465987924, 'abhorred': 0.0001351473105685197, 'shined': 4.504910352283989e-05, 'acknowledge': 4.504910352283989e-05, 'dwelleth': 0.0002702946211370394, 'provided': 9.009820704567979e-05, 'seated': 9.009820704567979e-05, 'executed': 9.009820704567979e-05, 'buried': 4.504910352283989e-05, 'dried': 4.504910352283989e-05, 'raised': 0.0005856383457969186, 'stretched': 0.0002702946211370394, 'utterly': 0.0001351473105685197, 'houghed': 4.504910352283989e-05, 'wholly': 9.009820704567979e-05, 'drave': 9.009820704567979e-05, 'expelled': 4.504910352283989e-05, 'covereth': 0.00018019641409135957, 'blew': 0.00036039282818271914, 'before': 4.504910352283989e-05, 'mightily': 9.009820704567979e-05, 'down': 9.009820704567979e-05, 'described': 4.504910352283989e-05, 'taught': 0.0008108838634111181, 'beat': 9.009820704567979e-05, 'requested': 0.00018019641409135957, 'hid': 0.0002702946211370394, 'me': 0.00031534372465987924, 'revived': 0.0001351473105685197, 'brake': 0.00045049103522839894, 'awaked': 4.504910352283989e-05, 'awoke': 0.00022524551761419947, 'journeyed': 0.0001351473105685197, 'winnoweth': 4.504910352283989e-05, 'measured': 0.0009910802775024777, 'bringeth': 0.0005405892422740788, 'thunder': 4.504910352283989e-05, 'struck': 0.00036039282818271914, 'call': 0.0001351473105685197, 'restrained': 4.504910352283989e-05, 'rehearsed': 4.504910352283989e-05, 'doth': 0.0006306874493197585, 'prophesied': 0.00018019641409135957, 'tarried': 0.0002702946211370394, 'vexed': 4.504910352283989e-05, 'sanctified': 4.504910352283989e-05, 'keepeth': 9.009820704567979e-05, 'assayed': 0.0001351473105685197, 'disdained': 0.0001351473105685197, 'slipped': 0.00018019641409135957, 'stripped': 4.504910352283989e-05, 'seeketh': 0.00018019641409135957, 'done': 0.00036039282818271914, 'shot': 0.00031534372465987924, 'enquired': 4.504910352283989e-05, 'forbare': 9.009820704567979e-05, 'dealeth': 4.504910352283989e-05, 'hideth': 0.00022524551761419947, 'railed': 4.504910352283989e-05, 'sling': 4.504910352283989e-05, 'reconcile': 4.504910352283989e-05, 'saluted': 0.00018019641409135957, 'bade': 0.00031534372465987924, 'reigned': 0.0018019641409135958, 'sacrificed': 0.0002702946211370394, 'dealt': 0.0002702946211370394, 'commit': 4.504910352283989e-05, 'subdued': 4.504910352283989e-05, 'garrisons': 4.504910352283989e-05, 'assigned': 4.504910352283989e-05, 'spared': 9.009820704567979e-05, 'forced': 0.0001351473105685197, 'devise': 4.504910352283989e-05, 'polled': 0.0001351473105685197, 'weighed': 9.009820704567979e-05, 'overtake': 4.504910352283989e-05, 'thus': 0.0005405892422740788, 'abideth': 0.00018019641409135957, 'cursed': 9.009820704567979e-05, 'counselled': 4.504910352283989e-05, 'saddled': 9.009820704567979e-05, 'get': 9.009820704567979e-05, 'being': 0.00045049103522839894, 'defied': 0.00018019641409135957, 'rode': 0.0002702946211370394, 'recompensed': 9.009820704567979e-05, 'attained': 0.0001351473105685197, 'moved': 0.00036039282818271914, 'gat': 4.504910352283989e-05, 'conferred': 4.504910352283989e-05, ')': 4.504910352283989e-05, 'covered': 0.0002702946211370394, 'carved': 0.00018019641409135957, 'seven': 4.504910352283989e-05, 'finished': 0.00018019641409135957, 'graved': 4.504910352283989e-05, 'ten': 4.504910352283989e-05, 'maintain': 4.504910352283989e-05, 'build': 4.504910352283989e-05, 'thee': 9.009820704567979e-05, 'bestowed': 9.009820704567979e-05, 'assembled': 9.009820704567979e-05, 'lied': 4.504910352283989e-05, 'warred': 0.0001351473105685197, 'provoked': 4.504910352283989e-05, 'wrought': 0.00031534372465987924, 'sleepeth': 4.504910352283989e-05, 'repaired': 9.009820704567979e-05, 'wrapped': 9.009820704567979e-05, 'caused': 0.00045049103522839894, 'wounded': 4.504910352283989e-05, 'humbleth': 4.504910352283989e-05, 'cleaved': 4.504910352283989e-05, 'leaneth': 4.504910352283989e-05, 'thither': 4.504910352283989e-05, 'leaned': 0.0004955401387512388, 'settled': 9.009820704567979e-05, 'when': 0.0002702946211370394, 'driveth': 4.504910352283989e-05, 'sunk': 9.009820704567979e-05, 'trode': 4.504910352283989e-05, 'any': 0.0001351473105685197, 'leave': 0.0001351473105685197, 'ripped': 0.0001351473105685197, 'from': 0.00031534372465987924, 'testified': 4.504910352283989e-05, 'clave': 9.009820704567979e-05, 'prospered': 4.504910352283989e-05, 'rebelled': 9.009820704567979e-05, 'persuadeth': 4.504910352283989e-05, 'defiled': 9.009820704567979e-05, 'taxed': 4.504910352283989e-05, 'exacted': 4.504910352283989e-05, 'shed': 9.009820704567979e-05, 'into': 4.504910352283989e-05, 'inhabited': 4.504910352283989e-05, 'appointed': 0.00031534372465987924, 'reproved': 9.009820704567979e-05, 'repented': 0.00018019641409135957, 'as': 0.00018019641409135957, 'cieled': 4.504910352283989e-05, 'garnished': 4.504910352283989e-05, 'among': 9.009820704567979e-05, 'prosperously': 4.504910352283989e-05, 'fortified': 4.504910352283989e-05, 'ordained': 0.00018019641409135957, 'desired': 0.00040544193170555904, 'strengthened': 0.00022524551761419947, 'transgressed': 4.504910352283989e-05, 'helped': 0.00018019641409135957, 'trespass': 9.009820704567979e-05, 'destroy': 0.0001351473105685197, 'stiffened': 4.504910352283989e-05, 'away': 4.504910352283989e-05, 'sojourneth': 4.504910352283989e-05, 'mourned': 4.504910352283989e-05, 'shaken': 4.504910352283989e-05, 'pronounced': 0.0002702946211370394, 'hired': 9.009820704567979e-05, 'remembered': 0.000855932966933958, 'speedily': 4.504910352283989e-05, 'force': 4.504910352283989e-05, 'devised': 4.504910352283989e-05, 'holdeth': 9.009820704567979e-05, 'saveth': 9.009820704567979e-05, 'woundeth': 4.504910352283989e-05, 'forsaketh': 4.504910352283989e-05, 'help': 9.009820704567979e-05, 'fill': 4.504910352283989e-05, 'passeth': 9.009820704567979e-05, 'breaketh': 0.0001351473105685197, 'answereth': 4.504910352283989e-05, 'shutteth': 9.009820704567979e-05, 'withholdeth': 4.504910352283989e-05, 'sendeth': 0.00018019641409135957, 'enlargeth': 4.504910352283989e-05, 'slay': 0.0001351473105685197, 'fleeth': 4.504910352283989e-05, 'perceiveth': 4.504910352283989e-05, 'reason': 4.504910352283989e-05, 'putteth': 0.00018019641409135957, 'stretcheth': 4.504910352283989e-05, 'prolong': 9.009820704567979e-05, 'gnasheth': 4.504910352283989e-05, 'cleaveth': 4.504910352283989e-05, 'poureth': 0.0001351473105685197, 'runneth': 4.504910352283989e-05, 'walketh': 0.00018019641409135957, 'counteth': 9.009820704567979e-05, 'hide': 9.009820704567979e-05, 'spare': 4.504910352283989e-05, 'laboured': 9.009820704567979e-05, 'restore': 4.504910352283989e-05, 'rewardeth': 4.504910352283989e-05, 'judgeth': 9.009820704567979e-05, 'reprove': 9.009820704567979e-05, 'enter': 0.0001351473105685197, 'judge': 0.00018019641409135957, 'plead': 9.009820704567979e-05, 'performeth': 4.504910352283989e-05, 'beholdeth': 0.0001351473105685197, 'riseth': 4.504910352283989e-05, 'resteth': 4.504910352283989e-05, 'smiteth': 4.504910352283989e-05, 'delight': 4.504910352283989e-05, 'heap': 4.504910352283989e-05, 'openeth': 0.00018019641409135957, 'departeth': 4.504910352283989e-05, 'overturneth': 9.009820704567979e-05, 'forth': 0.0001351473105685197, 'weigheth': 4.504910352283989e-05, 'visiteth': 4.504910352283989e-05, 'justified': 9.009820704567979e-05, 'findeth': 0.0001351473105685197, 'marketh': 0.0001351473105685197, 'render': 9.009820704567979e-05, 'gather': 4.504910352283989e-05, 'addeth': 9.009820704567979e-05, 'clappeth': 4.504910352283989e-05, 'multiplieth': 4.504910352283989e-05, 'bindeth': 4.504910352283989e-05, 'esteem': 4.504910352283989e-05, 'spreadeth': 9.009820704567979e-05, 'thundereth': 4.504910352283989e-05, 'wearieth': 4.504910352283989e-05, 'scattereth': 9.009820704567979e-05, 'commandeth': 0.00018019641409135957, 'quieteth': 4.504910352283989e-05, 'respecteth': 4.504910352283989e-05, 'searcheth': 4.504910352283989e-05, 'harrow': 4.504910352283989e-05, 'imparted': 4.504910352283989e-05, 'back': 4.504910352283989e-05, 'smelleth': 4.504910352283989e-05, 'eateth': 0.00036039282818271914, 'drinketh': 0.0001351473105685197, 'trusteth': 9.009820704567979e-05, 'speak': 0.00018019641409135957, 'raiseth': 4.504910352283989e-05, 'laugheth': 9.009820704567979e-05, 'prayed': 0.00036039282818271914, 'meditate': 4.504910352283989e-05, 'tear': 4.504910352283989e-05, 'ordaineth': 4.504910352283989e-05, 'travaileth': 4.504910352283989e-05, 'remembereth': 0.0001351473105685197, 'forgetteth': 4.504910352283989e-05, 'executeth': 4.504910352283989e-05, 'puffeth': 4.504910352283989e-05, 'murder': 4.504910352283989e-05, 'draweth': 4.504910352283989e-05, 'honoureth': 4.504910352283989e-05, 'rejoice': 4.504910352283989e-05, 'leadeth': 0.00018019641409135957, 'teach': 0.00018019641409135957, 'guide': 9.009820704567979e-05, 'whose': 0.00022524551761419947, 'layeth': 0.00022524551761419947, 'considereth': 9.009820704567979e-05, 'deliver': 0.00018019641409135957, 'flattereth': 4.504910352283989e-05, 'setteth': 4.504910352283989e-05, 'abhorreth': 4.504910352283989e-05, 'delighteth': 0.00018019641409135957, 'heapeth': 4.504910352283989e-05, 'inclined': 4.504910352283989e-05, 'speaketh': 0.00036039282818271914, 'telleth': 4.504910352283989e-05, 'uttered': 0.0001351473105685197, 'burneth': 4.504910352283989e-05, 'dieth': 4.504910352283989e-05, 'fighting': 4.504910352283989e-05, 'bendeth': 4.504910352283989e-05, 'established': 0.0001351473105685197, 'provide': 4.504910352283989e-05, 'consume': 4.504910352283989e-05, 'his': 0.00036039282818271914, 'withhold': 4.504910352283989e-05, 'writeth': 4.504910352283989e-05, 'correct': 4.504910352283989e-05, 'forsake': 4.504910352283989e-05, 'preserveth': 4.504910352283989e-05, 'delivereth': 4.504910352283989e-05, 'openly': 4.504910352283989e-05, 'shortened': 4.504910352283989e-05, 'keep': 0.00018019641409135957, 'flourisheth': 4.504910352283989e-05, 'increased': 4.504910352283989e-05, 'satisfieth': 4.504910352283989e-05, 'clothed': 4.504910352283989e-05, 'respect': 4.504910352283989e-05, 'returneth': 4.504910352283989e-05, 'relieveth': 4.504910352283989e-05, 'turneth': 0.00018019641409135957, 'gathereth': 4.504910352283989e-05, 'calleth': 0.00031534372465987924, 'casteth': 9.009820704567979e-05, 'causeth': 0.00018019641409135957, 'correcteth': 4.504910352283989e-05, 'blesseth': 4.504910352283989e-05, 'scorneth': 4.504910352283989e-05, 'pondereth': 4.504910352283989e-05, 'teacheth': 4.504910352283989e-05, 'deviseth': 9.009820704567979e-05, 'soweth': 4.504910352283989e-05, 'steal': 4.504910352283989e-05, 'rest': 4.504910352283989e-05, 'hate': 4.504910352283989e-05, 'condemn': 4.504910352283989e-05, 'pursueth': 4.504910352283989e-05, 'pay': 4.504910352283989e-05, 'beg': 4.504910352283989e-05, 'boasteth': 4.504910352283989e-05, 'receiveth': 0.0001351473105685197, 'directeth': 4.504910352283989e-05, 'overthroweth': 4.504910352283989e-05, 'thinketh': 4.504910352283989e-05, 'stumbleth': 0.0001351473105685197, 'refresheth': 4.504910352283989e-05, 'rage': 4.504910352283989e-05, 'understand': 4.504910352283989e-05, 'curse': 4.504910352283989e-05, 'reigneth': 4.504910352283989e-05, 'goat': 0.0001351473105685197, 'praiseth': 4.504910352283989e-05, 'laboureth': 4.504910352283989e-05, 'falleth': 0.0001351473105685197, 'begetteth': 4.504910352283989e-05, 'desireth': 9.009820704567979e-05, 'contend': 4.504910352283989e-05, 'spendeth': 4.504910352283989e-05, 'power': 9.009820704567979e-05, 'feareth': 4.504910352283989e-05, 'please': 0.0001351473105685197, 'standeth': 0.00018019641409135957, 'feedeth': 9.009820704567979e-05, 'ariseth': 9.009820704567979e-05, 'swear': 4.504910352283989e-05, 'fenced': 9.009820704567979e-05, 'lightly': 0.0001351473105685197, 'meaneth': 4.504910352283989e-05, 'remain': 4.504910352283989e-05, 'shake': 4.504910352283989e-05, 'lifteth': 4.504910352283989e-05, 'bloweth': 4.504910352283989e-05, 'shaketh': 4.504910352283989e-05, 'pull': 4.504910352283989e-05, 'smitten': 4.504910352283989e-05, 'slain': 4.504910352283989e-05, 'stayeth': 4.504910352283989e-05, 'lie': 4.504910352283989e-05, 'open': 4.504910352283989e-05, 'awaketh': 9.009820704567979e-05, 'fight': 9.009820704567979e-05, 'run': 4.504910352283989e-05, 'regardeth': 9.009820704567979e-05, 'counsel': 4.504910352283989e-05, 'increaseth': 4.504910352283989e-05, 'fastened': 9.009820704567979e-05, 'against': 4.504910352283989e-05, 'fitteth': 4.504910352283989e-05, 'strengtheneth': 4.504910352283989e-05, 'planteth': 4.504910352283989e-05, 'kindleth': 4.504910352283989e-05, 'roasteth': 4.504910352283989e-05, 'warmeth': 4.504910352283989e-05, 'created': 0.00018019641409135957, 'formed': 0.0002702946211370394, 'wakeneth': 9.009820704567979e-05, 'stricken': 4.504910352283989e-05, 'bare': 0.0001351473105685197, 'establish': 4.504910352283989e-05, 'redeemed': 4.504910352283989e-05, 'spoiled': 9.009820704567979e-05, 'reserve': 4.504910352283989e-05, 'reserveth': 9.009820704567979e-05, 'understandeth': 9.009820704567979e-05, 'uttereth': 0.0001351473105685197, 'weakeneth': 4.504910352283989e-05, 'Johanan': 4.504910352283989e-05, 'gone': 0.00018019641409135957, 'magnified': 9.009820704567979e-05, 'prophesieth': 9.009820704567979e-05, 'prosper': 4.504910352283989e-05, 'escape': 9.009820704567979e-05, 'despised': 0.00018019641409135957, 'cruelly': 4.504910352283989e-05, 'consulted': 4.504910352283989e-05, 'tread': 4.504910352283989e-05, 'fair': 4.504910352283989e-05, 'blow': 4.504910352283989e-05, 'trust': 4.504910352283989e-05, 'inherited': 4.504910352283989e-05, 'inward': 9.009820704567979e-05, 'consented': 0.0001351473105685197, 'changeth': 4.504910352283989e-05, 'removeth': 4.504910352283989e-05, 'tasted': 9.009820704567979e-05, 'appointeth': 4.504910352283989e-05, 'kneeled': 0.0001351473105685197, 'worketh': 9.009820704567979e-05, 'informed': 4.504910352283989e-05, 'ruled': 4.504910352283989e-05, 'corrupt': 4.504910352283989e-05, 'regard': 9.009820704567979e-05, 'honour': 9.009820704567979e-05, 'willingly': 9.009820704567979e-05, 'revive': 4.504910352283989e-05, 'remember': 9.009820704567979e-05, 'daily': 4.504910352283989e-05, 'recompense': 4.504910352283989e-05, 'preserved': 4.504910352283989e-05, 'exalted': 4.504910352283989e-05, 'offended': 4.504910352283989e-05, 'revealeth': 4.504910352283989e-05, 'fainted': 4.504910352283989e-05, 'retaineth': 4.504910352283989e-05, 'transgresseth': 4.504910352283989e-05, 'faileth': 4.504910352283989e-05, 'appeareth': 4.504910352283989e-05, 'demanded': 0.00022524551761419947, 'suffered': 0.0004955401387512388, 'healed': 0.00040544193170555904, 'ask': 0.0001351473105685197, 'marvelled': 0.00018019641409135957, 'their': 0.00018019641409135957, 'withdrew': 0.00022524551761419947, 'sowed': 0.0001351473105685197, 'becometh': 4.504910352283989e-05, 'find': 0.00031534372465987924, 'rejoiceth': 4.504910352283989e-05, 'neglect': 4.504910352283989e-05, 'hungered': 4.504910352283989e-05, 'sit': 4.504910352283989e-05, 'denied': 0.00022524551761419947, 'Barabbas': 4.504910352283989e-05, 'rolled': 0.0001351473105685197, 'preached': 0.0002702946211370394, 'straitly': 0.0001351473105685197, 'surnamed': 9.009820704567979e-05, 'expounded': 0.0001351473105685197, 'constrained': 4.504910352283989e-05, 'spit': 4.504910352283989e-05, 'rebuked': 9.009820704567979e-05, 'teareth': 4.504910352283989e-05, 'foameth': 9.009820704567979e-05, 'followeth': 0.0001351473105685197, 'answering': 0.00022524551761419947, 'released': 9.009820704567979e-05, 'beckoned': 4.504910352283989e-05, 'afterward': 4.504910352283989e-05, 'closed': 0.00036039282818271914, 'passing': 4.504910352283989e-05, 'rebuking': 4.504910352283989e-05, 'cured': 4.504910352283989e-05, 'frankly': 4.504910352283989e-05, 'forgave': 4.504910352283989e-05, 'seemeth': 4.504910352283989e-05, 'gain': 4.504910352283989e-05, 'stedfastly': 4.504910352283989e-05, 'ceased': 9.009820704567979e-05, 'needeth': 4.504910352283989e-05, 'possesseth': 4.504910352283989e-05, 'clothe': 4.504910352283989e-05, 'hale': 4.504910352283989e-05, 'marked': 4.504910352283989e-05, 'lose': 4.504910352283989e-05, 'repent': 9.009820704567979e-05, 'thank': 4.504910352283989e-05, 'suffer': 0.0001351473105685197, 'entereth': 4.504910352283989e-05, 'glorified': 4.504910352283989e-05, 'vanished': 9.009820704567979e-05, 'testifieth': 9.009820704567979e-05, 'witnesseth': 4.504910352283989e-05, 'distributed': 4.504910352283989e-05, 'deceiveth': 9.009820704567979e-05, 'spat': 0.00018019641409135957, 'thine': 4.504910352283989e-05, 'escaped': 0.0001351473105685197, 'groaned': 9.009820704567979e-05, 'stinketh': 4.504910352283989e-05, 'purgeth': 4.504910352283989e-05, 'bearing': 4.504910352283989e-05, 'stooping': 4.504910352283989e-05, 'breathed': 0.0001351473105685197, 'girt': 4.504910352283989e-05, 'tarry': 9.009820704567979e-05, 'through': 9.009820704567979e-05, 'testify': 4.504910352283989e-05, 'leaping': 4.504910352283989e-05, 'possessed': 4.504910352283989e-05, 'defended': 4.504910352283989e-05, 'baptized': 4.504910352283989e-05, 'trembling': 4.504910352283989e-05, 'prayeth': 4.504910352283989e-05, 'leaped': 9.009820704567979e-05, 'needed': 9.009820704567979e-05, 'sailed': 0.00031534372465987924, 'dismissed': 9.009820704567979e-05, 'purposed': 9.009820704567979e-05, 'therefore': 0.0001351473105685197, 'loosed': 9.009820704567979e-05, 'deferred': 4.504910352283989e-05, 'ascended': 0.0001351473105685197, 'thanked': 9.009820704567979e-05, 'mercy': 4.504910352283989e-05, 'hardeneth': 4.504910352283989e-05, 'foreknew': 4.504910352283989e-05, 'thirst': 4.504910352283989e-05, 'beareth': 4.504910352283989e-05, 'alloweth': 4.504910352283989e-05, 'buildeth': 4.504910352283989e-05, 'behaveth': 4.504910352283989e-05, 'interpret': 4.504910352283989e-05, 'accepted': 0.0001351473105685197, 'purposeth': 4.504910352283989e-05, 'quickened': 9.009820704567979e-05, 'receive': 9.009820704567979e-05, 'longed': 0.00018019641409135957, 'reconciled': 4.504910352283989e-05, 'oft': 9.009820704567979e-05, 'ministered': 4.504910352283989e-05, 'strive': 4.504910352283989e-05, 'grieved': 4.504910352283989e-05, 'limiteth': 4.504910352283989e-05, 'obedience': 4.504910352283989e-05, 'obtained': 0.0001351473105685197, 'continueth': 4.504910352283989e-05, 'condemned': 4.504910352283989e-05, 'endured': 4.504910352283989e-05, 'chasteneth': 4.504910352283989e-05, 'us': 4.504910352283989e-05, 'careth': 4.504910352283989e-05, 'love': 4.504910352283989e-05, 'believeth': 4.504910352283989e-05, 'hear': 0.0001351473105685197, 'disputed': 4.504910352283989e-05, 'striketh': 4.504910352283989e-05, 'persecuted': 4.504910352283989e-05, 'exerciseth': 4.504910352283989e-05, 'walk': 4.504910352283989e-05, 'deceived': 4.504910352283989e-05, 'laughing': 4.504910352283989e-05, 'vanish': 4.504910352283989e-05, 'stays': 9.009820704567979e-05, '!\"': 0.0001351473105685197, 'gambolled': 4.504910352283989e-05, 'stalked': 4.504910352283989e-05, 'licks': 4.504910352283989e-05, 'wiped': 9.009820704567979e-05, 'aspire': 4.504910352283989e-05, 'smile': 4.504910352283989e-05, 'seized': 0.0001351473105685197, 'smells': 0.0001351473105685197, 'cherish': 4.504910352283989e-05, 'just': 0.00022524551761419947, 'didn': 0.0015767186232993964, 'chuckled': 4.504910352283989e-05, 'threw': 0.0005405892422740788, 'pounced': 4.504910352283989e-05, 'couldn': 0.0011262275880709973, 'shone': 4.504910352283989e-05, 'shouted': 0.0004955401387512388, 'steered': 4.504910352283989e-05, 'tied': 4.504910352283989e-05, 'braced': 4.504910352283989e-05, 'pulled': 0.0009009820704567979, 'dived': 0.00018019641409135957, 'crossed': 0.0001351473105685197, 'stands': 0.00031534372465987924, 'turns': 0.00018019641409135957, 'looks': 0.0004955401387512388, 'nestles': 4.504910352283989e-05, 'runs': 0.00018019641409135957, 'watches': 9.009820704567979e-05, 'crosses': 4.504910352283989e-05, 'peeped': 4.504910352283989e-05, 'hunted': 0.00018019641409135957, 'climbed': 0.00022524551761419947, 'spun': 4.504910352283989e-05, 'wint': 0.0001351473105685197, 'thaught': 4.504910352283989e-05, 'tuk': 4.504910352283989e-05, 'shlips': 4.504910352283989e-05, 'marched': 4.504910352283989e-05, 'whiruled': 4.504910352283989e-05, 'whipped': 4.504910352283989e-05, 'tracked': 4.504910352283989e-05, 'tugged': 9.009820704567979e-05, 'cooled': 4.504910352283989e-05, 'screamed': 0.0001351473105685197, 'tossed': 0.00018019641409135957, 'puffed': 9.009820704567979e-05, 'puts': 0.0001351473105685197, 'stuck': 0.0001351473105685197, 'sang': 0.00018019641409135957, 'crawled': 4.504910352283989e-05, 'ate': 0.00045049103522839894, 'crept': 0.00018019641409135957, 'humped': 4.504910352283989e-05, 'piled': 4.504910352283989e-05, 'waits': 4.504910352283989e-05, 'sprang': 0.00018019641409135957, 'leaves': 9.009820704567979e-05, 'throws': 0.0001351473105685197, 'swam': 0.00022524551761419947, 'dressed': 9.009820704567979e-05, 'expected': 0.00036039282818271914, 'hoed': 4.504910352283989e-05, 'shovelled': 4.504910352283989e-05, 'sneered': 9.009820704567979e-05, 'wore': 0.0008108838634111181, 'woke': 9.009820704567979e-05, 'realised': 0.00018019641409135957, 'sank': 0.0001351473105685197, 'wills': 4.504910352283989e-05, 'grumbled': 4.504910352283989e-05, 'recognised': 9.009820704567979e-05, 'forgot': 0.00022524551761419947, 'ordered': 0.00022524551761419947, 'gazed': 0.00022524551761419947, 'stumbled': 9.009820704567979e-05, 'crouched': 4.504910352283989e-05, 'arrived': 9.009820704567979e-05, 'want': 0.0001351473105685197, 'dare': 9.009820704567979e-05, 'sewed': 4.504910352283989e-05, 'watched': 4.504910352283989e-05, 'roughly': 4.504910352283989e-05, 'mounted': 0.00022524551761419947, 'budge': 4.504910352283989e-05, 'pushed': 0.00036039282818271914, 'wailed': 4.504910352283989e-05, 'forbore': 4.504910352283989e-05, 'addressed': 0.0001351473105685197, 'sorted': 4.504910352283989e-05, 'resolved': 0.0002702946211370394, 'remarked': 9.009820704567979e-05, 'piped': 4.504910352283989e-05, 'yawned': 0.0001351473105685197, 'doing': 4.504910352283989e-05, 'stirred': 4.504910352283989e-05, 'surprised': 4.504910352283989e-05, 'smacked': 4.504910352283989e-05, 'wasn': 0.00045049103522839894, 'hurried': 0.00036039282818271914, 'simply': 9.009820704567979e-05, 'too': 0.0002702946211370394, 'catch': 4.504910352283989e-05, 'belong': 4.504910352283989e-05, 'doesn': 0.00031534372465987924, 'advised': 9.009820704567979e-05, 'grinned': 9.009820704567979e-05, 'caught': 0.00045049103522839894, 'carefully': 0.0001351473105685197, 'nearly': 0.00018019641409135957, 'whistled': 9.009820704567979e-05, 'tramped': 4.504910352283989e-05, 'baited': 4.504910352283989e-05, 'trudged': 0.0001351473105685197, 'picked': 0.00018019641409135957, 'wouldn': 0.00036039282818271914, 'snapped': 4.504910352283989e-05, 'snarled': 4.504910352283989e-05, 'drawled': 4.504910352283989e-05, 'retorted': 4.504910352283989e-05, 'isn': 0.00040544193170555904, 'cleared': 4.504910352283989e-05, 'taken': 9.009820704567979e-05, 'watching': 4.504910352283989e-05, 'scrambled': 4.504910352283989e-05, 'clung': 4.504910352283989e-05, '_had_': 9.009820704567979e-05, 'hadn': 4.504910352283989e-05, 'otherwise': 4.504910352283989e-05, 'scolds': 4.504910352283989e-05, 'hit': 4.504910352283989e-05, 'growled': 9.009820704567979e-05, 'peered': 9.009820704567979e-05, 'mumbled': 9.009820704567979e-05, 'wandered': 0.0001351473105685197, 'stole': 0.00022524551761419947, 'upset': 4.504910352283989e-05, 'vented': 4.504910352283989e-05, 'jumped': 0.00031534372465987924, 'realized': 0.00031534372465987924, 'muttered': 0.00031534372465987924, \"?'\": 0.0001351473105685197, 'handed': 0.00031534372465987924, 'sneezes': 9.009820704567979e-05, 'SAID': 4.504910352283989e-05, 'checked': 4.504910352283989e-05, 'hasn': 0.00018019641409135957, 'bit': 0.0001351473105685197, 'fumbled': 9.009820704567979e-05, 'flung': 0.00045049103522839894, 'prevented': 4.504910352283989e-05, 'pointed': 0.0006757365528425984, 'whirled': 4.504910352283989e-05, 'broke': 0.00036039282818271914, 'yelled': 4.504910352283989e-05, 'swung': 0.00036039282818271914, 'smashed': 9.009820704567979e-05, 'plotted': 4.504910352283989e-05, 'selected': 4.504910352283989e-05, 'flattened': 4.504910352283989e-05, 'your': 4.504910352283989e-05, 'blasphemed': 9.009820704567979e-05, 'refuses': 4.504910352283989e-05, 'struggled': 4.504910352283989e-05, 'disengaged': 4.504910352283989e-05, 'gets': 4.504910352283989e-05, 'snatched': 0.00018019641409135957, 'stared': 0.0002702946211370394, 'lit': 4.504910352283989e-05, 'assumed': 0.0001351473105685197, 'strolled': 0.0001351473105685197, 'leapt': 0.00018019641409135957, 'ducked': 4.504910352283989e-05, 'rubbed': 9.009820704567979e-05, '!': 0.00045049103522839894, 'strained': 0.0001351473105685197, 'digs': 4.504910352283989e-05, 'ploughs': 4.504910352283989e-05, 'sings': 9.009820704567979e-05, 'obviously': 4.504910352283989e-05, 'clutched': 4.504910352283989e-05, 'plucked': 4.504910352283989e-05, 'silently': 9.009820704567979e-05, 'backed': 4.504910352283989e-05, 'approached': 4.504910352283989e-05, 'absorbed': 4.504910352283989e-05, 'invoked': 4.504910352283989e-05, 'leant': 9.009820704567979e-05, 'insulted': 4.504910352283989e-05, 'trembled': 4.504910352283989e-05, 'explained': 9.009820704567979e-05, 'staggered': 0.0001351473105685197, 'restricted': 4.504910352283989e-05, 'strode': 0.0002702946211370394, 'retreated': 4.504910352283989e-05, 'boggled': 4.504910352283989e-05, 'plunged': 9.009820704567979e-05, 'decided': 9.009820704567979e-05, 'descended': 0.0001351473105685197, 'fixed': 9.009820704567979e-05, 'queried': 4.504910352283989e-05, '-': 0.0002702946211370394, 'frightfully': 4.504910352283989e-05, 'swallowed': 4.504910352283989e-05, 'haughtily': 4.504910352283989e-05, 'clasped': 9.009820704567979e-05, 'softly': 4.504910352283989e-05, 'exists': 4.504910352283989e-05, 'compressed': 4.504910352283989e-05, 'unlocked': 4.504910352283989e-05, 'nodded': 4.504910352283989e-05, 'blinked': 4.504910352283989e-05, 'imagined': 4.504910352283989e-05, 'kicked': 0.0001351473105685197, 'since': 4.504910352283989e-05, 'bounded': 4.504910352283989e-05, 'again': 0.00022524551761419947, 'bent': 0.00018019641409135957, 'allowed': 4.504910352283989e-05, 'traversed': 4.504910352283989e-05, 'disliked': 4.504910352283989e-05, 'bundled': 9.009820704567979e-05, 'managed': 0.00018019641409135957, 'gasped': 9.009820704567979e-05, 'fortunately': 4.504910352283989e-05, 'vividly': 4.504910352283989e-05, 'skirted': 4.504910352283989e-05, 'rushed': 0.0001351473105685197, 'chooses': 0.0001351473105685197, 'failed': 9.009820704567979e-05, 'produced': 9.009820704567979e-05, 'moves': 9.009820704567979e-05, 'collects': 4.504910352283989e-05, 'belongs': 4.504910352283989e-05, 'alleged': 4.504910352283989e-05, 'admitted': 0.0001351473105685197, 'becomes': 4.504910352283989e-05, 'landed': 4.504910352283989e-05, 'uncorked': 4.504910352283989e-05, 'advanced': 0.0001351473105685197, 'levied': 4.504910352283989e-05, 'clapped': 4.504910352283989e-05, 'scattered': 4.504910352283989e-05, 'volleyed': 4.504910352283989e-05, 'sits': 0.00031534372465987924, 'heavily': 9.009820704567979e-05, 'somewhat': 4.504910352283989e-05, 'hopped': 9.009820704567979e-05, 'knotted': 4.504910352283989e-05, 'abandoned': 4.504910352283989e-05, 'conveyed': 4.504910352283989e-05, 'stammered': 4.504910352283989e-05, 'heartily': 9.009820704567979e-05, 'evidently': 0.0001351473105685197, 'rang': 9.009820704567979e-05, 'jerked': 9.009820704567979e-05, 'betrayed': 0.0001351473105685197, 'annoyed': 4.504910352283989e-05, 'affected': 9.009820704567979e-05, 'parted': 9.009820704567979e-05, 'insisted': 0.00018019641409135957, 'blackmailed': 4.504910352283989e-05, 'articulated': 4.504910352283989e-05, 'crushed': 4.504910352283989e-05, 'damn': 4.504910352283989e-05, 'wears': 0.00022524551761419947, 'insists': 4.504910352283989e-05, 'betook': 4.504910352283989e-05, 'conceal': 4.504910352283989e-05, 'show': 4.504910352283989e-05, 'write': 4.504910352283989e-05, 'crumpled': 4.504910352283989e-05, 'retired': 9.009820704567979e-05, 'heaved': 0.0001351473105685197, 'somehow': 9.009820704567979e-05, 'developed': 4.504910352283989e-05, 'dreamily': 4.504910352283989e-05, 'remained': 0.0001351473105685197, 'dashed': 9.009820704567979e-05, 'reflected': 4.504910352283989e-05, 'recognized': 4.504910352283989e-05, 'afterwards': 4.504910352283989e-05, 'directed': 4.504910352283989e-05, 'there': 0.0001351473105685197, 'guessed': 9.009820704567979e-05, 'differed': 4.504910352283989e-05, 'lies': 0.00022524551761419947, 'imagines': 4.504910352283989e-05, 'noted': 4.504910352283989e-05, 'anything': 4.504910352283989e-05, 'ruminated': 4.504910352283989e-05, 'disappointed': 9.009820704567979e-05, 'worked': 0.0001351473105685197, 'prefers': 4.504910352283989e-05, 'performed': 9.009820704567979e-05, 'gives': 0.00036039282818271914, 'roared': 0.00018019641409135957, 'swayed': 4.504910352283989e-05, 'revolted': 4.504910352283989e-05, 'paced': 0.00018019641409135957, 'trimmed': 4.504910352283989e-05, 'gradually': 9.009820704567979e-05, 'mostly': 4.504910352283989e-05, 'minded': 4.504910352283989e-05, 'shouldered': 4.504910352283989e-05, 'brushed': 4.504910352283989e-05, 'paused': 0.00018019641409135957, 'rambled': 4.504910352283989e-05, 'shrieked': 4.504910352283989e-05, 'knocked': 0.00018019641409135957, 'lives': 0.00018019641409135957, 'denounce': 4.504910352283989e-05, 'locked': 9.009820704567979e-05, 'rippled': 4.504910352283989e-05, 'buttoned': 4.504910352283989e-05, 'signalled': 4.504910352283989e-05, 'flicked': 4.504910352283989e-05, 'motioned': 4.504910352283989e-05, 'rejoined': 9.009820704567979e-05, 'misses': 9.009820704567979e-05, 'slashed': 4.504910352283989e-05, 'riposted': 4.504910352283989e-05, 'aimed': 4.504910352283989e-05, 'half': 9.009820704567979e-05, 'spluttered': 4.504910352283989e-05, 'planned': 4.504910352283989e-05, 'regards': 9.009820704567979e-05, 'wearing': 4.504910352283989e-05, 'haggles': 4.504910352283989e-05, 'owns': 9.009820704567979e-05, 'mechanically': 0.00018019641409135957, 'pooh': 4.504910352283989e-05, 'fished': 4.504910352283989e-05, 'tore': 4.504910352283989e-05, 'hailed': 9.009820704567979e-05, 'lashed': 4.504910352283989e-05, 'forgets': 9.009820704567979e-05, 'happens': 0.0001351473105685197, 'desires': 9.009820704567979e-05, 'hopes': 4.504910352283989e-05, 'earned': 9.009820704567979e-05, 'every': 9.009820704567979e-05, 'flattered': 0.00022524551761419947, 'inquired': 4.504910352283989e-05, 'positively': 4.504910352283989e-05, 'twitched': 9.009820704567979e-05, 'calls': 0.0002702946211370394, 'wakened': 4.504910352283989e-05, 'exerted': 9.009820704567979e-05, 'overheard': 4.504910352283989e-05, 'lounged': 9.009820704567979e-05, 'persevered': 4.504910352283989e-05, 'shunned': 4.504910352283989e-05, 'sobbed': 4.504910352283989e-05, ',\"': 9.009820704567979e-05, 'WOULD': 4.504910352283989e-05, 'comprehend': 4.504910352283989e-05, 'least': 4.504910352283989e-05, 'envy': 4.504910352283989e-05, 'wins': 4.504910352283989e-05, 'don': 0.00031534372465987924, 'frequented': 4.504910352283989e-05, 'appealed': 9.009820704567979e-05, 'hides': 9.009820704567979e-05, 'strictly': 4.504910352283989e-05, 'lowered': 4.504910352283989e-05, 'swears': 4.504910352283989e-05, 'refrained': 9.009820704567979e-05, 'represented': 4.504910352283989e-05, 'one': 0.0001351473105685197, 'totally': 4.504910352283989e-05, 'sallied': 4.504910352283989e-05, 'cynically': 4.504910352283989e-05, 'pondered': 9.009820704567979e-05, 'play': 4.504910352283989e-05, 'turning': 4.504910352283989e-05, 'lately': 4.504910352283989e-05, 'involuntarily': 9.009820704567979e-05, 'modestly': 4.504910352283989e-05, 'seldom': 9.009820704567979e-05, 'justly': 9.009820704567979e-05, 'slouched': 4.504910352283989e-05, 'earns': 4.504910352283989e-05, 'amused': 4.504910352283989e-05, 'sets': 4.504910352283989e-05, 'rides': 0.0001351473105685197, '!--': 0.00022524551761419947, 'tears': 9.009820704567979e-05, 'WILL': 4.504910352283989e-05, 'falls': 4.504910352283989e-05, 'gallops': 4.504910352283989e-05, 'makes': 0.00036039282818271914, 'along': 4.504910352283989e-05, 'you': 4.504910352283989e-05, 'bespoke': 4.504910352283989e-05, 'lets': 0.00018019641409135957, 'secretly': 4.504910352283989e-05, 'acted': 4.504910352283989e-05, 'persuaded': 4.504910352283989e-05, 'determined': 0.0001351473105685197, 'dragged': 9.009820704567979e-05, 'split': 9.009820704567979e-05, 'meddled': 4.504910352283989e-05, 'convinced': 4.504910352283989e-05, 'viewed': 4.504910352283989e-05, 'FELL': 4.504910352283989e-05, 'possibly': 4.504910352283989e-05, 'ventured': 4.504910352283989e-05, 'drinks': 4.504910352283989e-05, 'trembles': 4.504910352283989e-05, 'walks': 9.009820704567979e-05, 'buttons': 4.504910352283989e-05, 'screeched': 4.504910352283989e-05, 'telled': 4.504910352283989e-05, 'bleed': 4.504910352283989e-05, 'mistook': 4.504910352283989e-05, 'bid': 9.009820704567979e-05, '\"': 4.504910352283989e-05, 'repeals': 4.504910352283989e-05, 'stationed': 4.504910352283989e-05, 'sha': 4.504910352283989e-05, 'shan': 9.009820704567979e-05, 'beholds': 9.009820704567979e-05, 'summoned': 9.009820704567979e-05, 'shamed': 4.504910352283989e-05, 'unpacked': 4.504910352283989e-05, 'solicited': 4.504910352283989e-05, 'sneaked': 4.504910352283989e-05, 'casts': 9.009820704567979e-05, 'buys': 4.504910352283989e-05, 'tolerably': 4.504910352283989e-05, 'experienced': 4.504910352283989e-05, 'pitied': 4.504910352283989e-05, 'scarcely': 4.504910352283989e-05, 'acquired': 4.504910352283989e-05, 'painted': 4.504910352283989e-05, 'heaped': 4.504910352283989e-05, 'emptied': 4.504910352283989e-05, 'deprived': 4.504910352283989e-05, 'introduced': 4.504910352283989e-05, 'unaffectedly': 4.504910352283989e-05, 'accompanied': 4.504910352283989e-05, 'dexterously': 9.009820704567979e-05, 'eagerly': 4.504910352283989e-05, 'roamed': 9.009820704567979e-05, 'improved': 4.504910352283989e-05, 'recited': 4.504910352283989e-05, 'likely': 4.504910352283989e-05, 'gained': 4.504910352283989e-05, 'alluded': 4.504910352283989e-05, 'connected': 4.504910352283989e-05, 'superstitiously': 4.504910352283989e-05, 'pardons': 4.504910352283989e-05, 'frequently': 4.504910352283989e-05, 'balanced': 4.504910352283989e-05, 'squints': 4.504910352283989e-05, 'slunk': 4.504910352283989e-05, 'sleeps': 4.504910352283989e-05, 'blushed': 4.504910352283989e-05, 'watch': 4.504910352283989e-05, 'panted': 4.504910352283989e-05, 'scotched': 4.504910352283989e-05, 'vas': 4.504910352283989e-05, 'overturned': 4.504910352283989e-05, 'endures': 4.504910352283989e-05, 'rears': 9.009820704567979e-05, 'rushes': 9.009820704567979e-05, 'parried': 4.504910352283989e-05, 'employs': 4.504910352283989e-05, 'sadly': 4.504910352283989e-05, 'breathes': 0.0001351473105685197, 'warm': 4.504910352283989e-05, 'pours': 4.504910352283989e-05, 'eats': 0.0001351473105685197, 'here': 4.504910352283989e-05, 'swore': 4.504910352283989e-05, 'procured': 4.504910352283989e-05, 'commenced': 0.0001351473105685197, 'kindled': 4.504910352283989e-05, 'emerged': 4.504910352283989e-05, 'proudly': 4.504910352283989e-05, 'eschewed': 4.504910352283989e-05, 'orders': 4.504910352283989e-05, 'signifies': 4.504910352283989e-05, 'oftener': 4.504910352283989e-05, 'tries': 4.504910352283989e-05, 'descends': 9.009820704567979e-05, 'rallies': 4.504910352283989e-05, 'darts': 4.504910352283989e-05, 'slowly': 4.504910352283989e-05, 'swiftly': 9.009820704567979e-05, 'mutters': 9.009820704567979e-05, 'groans': 4.504910352283989e-05, 'cries': 9.009820704567979e-05, 'scarce': 9.009820704567979e-05, 'drops': 9.009820704567979e-05, 'pluck': 9.009820704567979e-05, 'having': 4.504910352283989e-05, 'little': 4.504910352283989e-05, 'silenced': 4.504910352283989e-05, 'boasted': 4.504910352283989e-05, 'nourished': 4.504910352283989e-05, 'paddled': 4.504910352283989e-05, 'proposed': 4.504910352283989e-05, 'mildly': 4.504910352283989e-05, 'climbs': 4.504910352283989e-05, 'asserted': 4.504910352283989e-05, 'plainly': 4.504910352283989e-05, 'thundered': 4.504910352283989e-05, 'keeps': 4.504910352283989e-05, 'ain': 0.00018019641409135957, 'reply': 4.504910352283989e-05, 'handles': 4.504910352283989e-05, 'shrinked': 4.504910352283989e-05, 'insensibly': 4.504910352283989e-05, 'flourished': 4.504910352283989e-05, 'needs': 9.009820704567979e-05, 'presided': 4.504910352283989e-05, 'handled': 4.504910352283989e-05, 'obeyed': 4.504910352283989e-05, 'smoked': 4.504910352283989e-05, 'partly': 9.009820704567979e-05, 'shipped': 4.504910352283989e-05, 'maintained': 4.504910352283989e-05, 'flashed': 4.504910352283989e-05, 'mad': 9.009820704567979e-05, 'suspects': 4.504910352283989e-05, 'soliloquized': 4.504910352283989e-05, \"--'\": 4.504910352283989e-05, 'kick': 4.504910352283989e-05, 'all': 0.0001351473105685197, 'shouts': 4.504910352283989e-05, 'states': 4.504910352283989e-05, 'attains': 4.504910352283989e-05, 'derives': 4.504910352283989e-05, 'eludes': 4.504910352283989e-05, 'carries': 0.00022524551761419947, 'uses': 4.504910352283989e-05, 'swims': 9.009820704567979e-05, 'works': 9.009820704567979e-05, 'differs': 4.504910352283989e-05, 'ranks': 4.504910352283989e-05, 'swings': 9.009820704567979e-05, 'likewise': 9.009820704567979e-05, 'strikes': 0.0001351473105685197, 'remains': 4.504910352283989e-05, 'pauses': 4.504910352283989e-05, 'deemed': 9.009820704567979e-05, 'treats': 4.504910352283989e-05, 'loses': 4.504910352283989e-05, 'fan': 9.009820704567979e-05, 'spouts': 9.009820704567979e-05, 'heaps': 4.504910352283989e-05, 'laughs': 4.504910352283989e-05, 'snorts': 4.504910352283989e-05, 'grasped': 4.504910352283989e-05, 'brimmed': 4.504910352283989e-05, 'drilled': 4.504910352283989e-05, 'lords': 4.504910352283989e-05, 'broods': 4.504910352283989e-05, 'bred': 4.504910352283989e-05, 'transports': 4.504910352283989e-05, 'revealed': 4.504910352283989e-05, 'pitted': 4.504910352283989e-05, 'probably': 4.504910352283989e-05, 'patient': 4.504910352283989e-05, 'succeed': 4.504910352283989e-05, 'westward': 4.504910352283989e-05, 'start': 4.504910352283989e-05, 'creates': 4.504910352283989e-05, 'travelled': 4.504910352283989e-05, 'famous': 4.504910352283989e-05, 'speaks': 0.00018019641409135957, 'multiplied': 4.504910352283989e-05, 'nevertheless': 4.504910352283989e-05, 'thereby': 9.009820704567979e-05, 'ignited': 4.504910352283989e-05, 'evinced': 4.504910352283989e-05, 'loudly': 4.504910352283989e-05, 'conceives': 4.504910352283989e-05, 'steadfastly': 4.504910352283989e-05, 'instinctively': 4.504910352283989e-05, 'warned': 4.504910352283989e-05, 'indolently': 4.504910352283989e-05, 'floats': 9.009820704567979e-05, 'accordingly': 4.504910352283989e-05, 'applied': 4.504910352283989e-05, 'employed': 4.504910352283989e-05, 'anchored': 4.504910352283989e-05, 'brings': 0.00022524551761419947, 'succeeds': 4.504910352283989e-05, 'published': 4.504910352283989e-05, 'derived': 4.504910352283989e-05, 'distinctly': 4.504910352283989e-05, 'narrates': 4.504910352283989e-05, 'assigns': 4.504910352283989e-05, 'brewed': 4.504910352283989e-05, 'elevates': 4.504910352283989e-05, 'essays': 4.504910352283989e-05, 'issued': 9.009820704567979e-05, 'solemnly': 4.504910352283989e-05, 'gloomily': 4.504910352283989e-05, 'hisself': 4.504910352283989e-05, 'presents': 4.504910352283989e-05, 'dies': 0.00018019641409135957, 'peremptorily': 4.504910352283989e-05, 'work': 4.504910352283989e-05, 'blows': 4.504910352283989e-05, 'standing': 4.504910352283989e-05, 'tucks': 4.504910352283989e-05, 'coils': 4.504910352283989e-05, 'sneaks': 4.504910352283989e-05, 'retains': 4.504910352283989e-05, 'lands': 4.504910352283989e-05, 'vivaciously': 4.504910352283989e-05, 'diligently': 4.504910352283989e-05, 'proceeds': 4.504910352283989e-05, 'slewed': 4.504910352283989e-05, 'mocks': 4.504910352283989e-05, 'thundering': 4.504910352283989e-05, 'yawed': 4.504910352283989e-05, 'spasmodically': 4.504910352283989e-05, 'tumultuously': 4.504910352283989e-05, 'esteemeth': 4.504910352283989e-05, 'stirs': 9.009820704567979e-05, 'partially': 4.504910352283989e-05, 'helplessly': 4.504910352283989e-05, 'swells': 4.504910352283989e-05, 'straightway': 4.504910352283989e-05, 'levels': 4.504910352283989e-05, 'steadily': 4.504910352283989e-05, 'quits': 4.504910352283989e-05, 'rises': 9.009820704567979e-05, 'fetches': 9.009820704567979e-05, 'sounds': 4.504910352283989e-05, 'accidentally': 4.504910352283989e-05, 'feel': 4.504910352283989e-05, 'plays': 4.504910352283989e-05, 'chased': 4.504910352283989e-05, 'glanced': 4.504910352283989e-05, 'towed': 4.504910352283989e-05, 'intensely': 4.504910352283989e-05, 'insinuates': 4.504910352283989e-05, 'learned': 4.504910352283989e-05, 'inculcated': 4.504910352283989e-05, 'instituted': 4.504910352283989e-05, 'awarded': 4.504910352283989e-05, 'banteringly': 4.504910352283989e-05, 'bawled': 4.504910352283989e-05, 'moulded': 4.504910352283989e-05, 'conjures': 4.504910352283989e-05, 'enjoys': 4.504910352283989e-05, 'lays': 4.504910352283989e-05, 'breasted': 4.504910352283989e-05, 'suspended': 4.504910352283989e-05, 'cuts': 4.504910352283989e-05, 'lengthwise': 4.504910352283989e-05, 'consumed': 4.504910352283989e-05, 'seeks': 4.504910352283989e-05, 'enters': 4.504910352283989e-05, 'wheeled': 4.504910352283989e-05, 'wheels': 4.504910352283989e-05, 'begets': 4.504910352283989e-05, 'bumps': 4.504910352283989e-05, 'politely': 4.504910352283989e-05, 'spins': 4.504910352283989e-05, 'sounded': 4.504910352283989e-05, '.\"': 4.504910352283989e-05, 'swallows': 4.504910352283989e-05, 'weaves': 4.504910352283989e-05, 'deafened': 4.504910352283989e-05, 'measures': 9.009820704567979e-05, 'enacted': 4.504910352283989e-05, 'accounted': 4.504910352283989e-05, 'about': 4.504910352283989e-05, 'supplies': 4.504910352283989e-05, 'speaking': 9.009820704567979e-05, 'figures': 4.504910352283989e-05, 'wasted': 4.504910352283989e-05, 'shuddered': 4.504910352283989e-05, 'forthwith': 4.504910352283989e-05, 'shifted': 4.504910352283989e-05, 'marshalled': 4.504910352283989e-05, 'averred': 4.504910352283989e-05, 'unthinkingly': 4.504910352283989e-05, 'toiled': 9.009820704567979e-05, 'hammered': 4.504910352283989e-05, 'slid': 9.009820704567979e-05, 'reserved': 4.504910352283989e-05, 'extinguished': 4.504910352283989e-05, 'muttering': 4.504910352283989e-05, 'baulks': 4.504910352283989e-05, 'allude': 4.504910352283989e-05, 'this': 9.009820704567979e-05, 'sagaciously': 4.504910352283989e-05, 'rigged': 4.504910352283989e-05, 'strove': 4.504910352283989e-05, 'swept': 4.504910352283989e-05, 'profoundly': 4.504910352283989e-05, 'sullenly': 4.504910352283989e-05, 'yielded': 4.504910352283989e-05, 'spout': 4.504910352283989e-05, 'travels': 9.009820704567979e-05, 'shakes': 9.009820704567979e-05, 'critically': 4.504910352283989e-05, 'swamps': 4.504910352283989e-05, 'coiled': 4.504910352283989e-05, 'waved': 4.504910352283989e-05, 'pecks': 4.504910352283989e-05, 'soars': 4.504910352283989e-05, 'sped': 4.504910352283989e-05, 'rallied': 4.504910352283989e-05, 'opposed': 4.504910352283989e-05, 'views': 9.009820704567979e-05, 'our': 9.009820704567979e-05, 'steers': 4.504910352283989e-05, 'Who': 4.504910352283989e-05, 'Whom': 4.504910352283989e-05, 'enticed': 4.504910352283989e-05, 'enlarged': 4.504910352283989e-05, 'In': 4.504910352283989e-05, 'sums': 4.504910352283989e-05, 'ere': 9.009820704567979e-05, 'scape': 0.0001351473105685197, 'counsels': 4.504910352283989e-05, 'lordly': 4.504910352283989e-05, 'arrive': 4.504910352283989e-05, 'above': 4.504910352283989e-05, 'nor': 4.504910352283989e-05, 'my': 4.504910352283989e-05, 'reigns': 4.504910352283989e-05, 'fares': 9.009820704567979e-05, 'plies': 4.504910352283989e-05, 'hies': 4.504910352283989e-05, 'wings': 4.504910352283989e-05, 'fulfill': 4.504910352283989e-05, 'her': 9.009820704567979e-05, 'attends': 4.504910352283989e-05, 'descries': 4.504910352283989e-05, 'surveys': 4.504910352283989e-05, 'lights': 9.009820704567979e-05, 'fixes': 4.504910352283989e-05, 'alights': 4.504910352283989e-05, 'stalks': 4.504910352283989e-05, 'impregns': 4.504910352283989e-05, 'scornful': 4.504910352283989e-05, 'lurk': 4.504910352283989e-05, 'spreads': 4.504910352283989e-05, 'framed': 0.0001351473105685197, 'list': 4.504910352283989e-05, 'starts': 4.504910352283989e-05, 'judges': 4.504910352283989e-05, 'designs': 4.504910352283989e-05, 'flies': 4.504910352283989e-05, 'Beholding': 4.504910352283989e-05, 'requires': 4.504910352283989e-05, 'Affecting': 4.504910352283989e-05, 'sustained': 4.504910352283989e-05, 'mixed': 4.504910352283989e-05, 'governs': 4.504910352283989e-05, 'To': 4.504910352283989e-05, 'sole': 4.504910352283989e-05, 'centered': 4.504910352283989e-05, 'wons': 4.504910352283989e-05, 'Present': 4.504910352283989e-05, 'Created': 4.504910352283989e-05, 'dwells': 4.504910352283989e-05, 'sends': 9.009820704567979e-05, 'decreed': 4.504910352283989e-05, 'soared': 4.504910352283989e-05, 'spies': 4.504910352283989e-05, 'recollects': 4.504910352283989e-05, 'scrupled': 4.504910352283989e-05, 'on': 4.504910352283989e-05, 'seised': 4.504910352283989e-05, 'presumes': 4.504910352283989e-05, 'over': 4.504910352283989e-05, 'Man': 4.504910352283989e-05, 'clad': 4.504910352283989e-05, 'snuffed': 4.504910352283989e-05, 'First': 4.504910352283989e-05, 'admiring': 4.504910352283989e-05, 'Departing': 4.504910352283989e-05, 'exercise': 4.504910352283989e-05, 'draw': 4.504910352283989e-05, 'both': 4.504910352283989e-05, 'abides': 4.504910352283989e-05, 'vouchsafed': 4.504910352283989e-05, 'inly': 4.504910352283989e-05, 'drained': 4.504910352283989e-05, 'relents': 4.504910352283989e-05, 'accuse': 4.504910352283989e-05, 'convey': 4.504910352283989e-05, 'permits': 4.504910352283989e-05, 'straight': 4.504910352283989e-05, 'receives': 4.504910352283989e-05, 'late': 4.504910352283989e-05, 'descending': 4.504910352283989e-05, 'grants': 4.504910352283989e-05, 'vouchsafes': 4.504910352283989e-05, 'saves': 4.504910352283989e-05, 'nails': 4.504910352283989e-05, 'redeems': 4.504910352283989e-05, 'stay': 4.504910352283989e-05, 'home': 4.504910352283989e-05, 'lookes': 4.504910352283989e-05, 'heares': 4.504910352283989e-05, 'smiles': 0.0001351473105685197, 'mock': 4.504910352283989e-05, 'pleas': 4.504910352283989e-05, 'perceiu': 4.504910352283989e-05, 'refus': 4.504910352283989e-05, 'pluckt': 4.504910352283989e-05, 'desir': 4.504910352283989e-05, 'loues': 0.00022524551761419947, 'improue': 4.504910352283989e-05, 'beares': 4.504910352283989e-05, 'loue': 9.009820704567979e-05, 'hates': 4.504910352283989e-05, 'steale': 9.009820704567979e-05, 'bad': 4.504910352283989e-05, 'speake': 4.504910352283989e-05, 'begins': 4.504910352283989e-05, 'ouercame': 4.504910352283989e-05, 'giues': 4.504910352283989e-05, 'receiu': 9.009820704567979e-05, 'durst': 4.504910352283989e-05, 'knowes': 4.504910352283989e-05, 'waste': 4.504910352283989e-05, 'haue': 9.009820704567979e-05, 'spurres': 4.504910352283989e-05, 'Messala': 4.504910352283989e-05, 'meditates': 4.504910352283989e-05, 'bin': 4.504910352283989e-05, 'walkt': 4.504910352283989e-05, 'frowningly': 4.504910352283989e-05, 'sayes': 9.009820704567979e-05, 'walke': 4.504910352283989e-05, 'dreines': 4.504910352283989e-05, 'gaming': 4.504910352283989e-05, 'repulsed': 4.504910352283989e-05, 'raues': 4.504910352283989e-05, 'ha': 0.00022524551761419947, 'loued': 4.504910352283989e-05, 'findes': 4.504910352283989e-05, 'doe': 9.009820704567979e-05, 'feeles': 4.504910352283989e-05, 'receiue': 4.504910352283989e-05, 'beseech': 4.504910352283989e-05, 'himselfe': 4.504910352283989e-05, 'glares': 4.504910352283989e-05, 'liued': 4.504910352283989e-05, 'drag': 4.504910352283989e-05, 'needes': 4.504910352283989e-05, 'rages': 4.504910352283989e-05, 'dead': 4.504910352283989e-05, 'meanes': 9.009820704567979e-05, 'beene': 9.009820704567979e-05, 'past': 4.504910352283989e-05, 'cryed': 4.504910352283989e-05, 'cals': 4.504910352283989e-05, 'nill': 4.504910352283989e-05, None: 4.504910352283989e-05, 'rot': 4.504910352283989e-05, 'impon': 4.504910352283989e-05, 'leaues': 9.009820704567979e-05, 'throw': 4.504910352283989e-05, 'vnseam': 4.504910352283989e-05, 'looke': 4.504910352283989e-05, 'disbursed': 4.504910352283989e-05, 'dwindle': 4.504910352283989e-05, 'seemes': 4.504910352283989e-05, 'reades': 4.504910352283989e-05, 'deserues': 4.504910352283989e-05, 'labour': 4.504910352283989e-05, 'ow': 4.504910352283989e-05, 'purposes': 4.504910352283989e-05, 'greetes': 4.504910352283989e-05, 'liues': 4.504910352283989e-05, 'tooke': 4.504910352283989e-05, 'mine': 4.504910352283989e-05, 'sleepes': 4.504910352283989e-05, 'deliuers': 4.504910352283989e-05, 'within': 4.504910352283989e-05, 'dispatch': 4.504910352283989e-05, 'bides': 4.504910352283989e-05, 'growes': 4.504910352283989e-05, 'Will': 4.504910352283989e-05, 'Duncans': 4.504910352283989e-05, 'fayl': 4.504910352283989e-05, 'bestowes': 4.504910352283989e-05, 'solicites': 4.504910352283989e-05, 'cures': 4.504910352283989e-05, 'feele': 9.009820704567979e-05, 'commands': 4.504910352283989e-05, 'auouches': 4.504910352283989e-05, 'That': 4.504910352283989e-05, 'dy': 4.504910352283989e-05, 'tosses': 4.504910352283989e-05, 'heaves': 4.504910352283989e-05, 'attesting': 4.504910352283989e-05, 'knuckled': 4.504910352283989e-05, 'follow': 4.504910352283989e-05, 'furiously': 4.504910352283989e-05, ',)': 9.009820704567979e-05, 'composedly': 4.504910352283989e-05, 'waiting': 4.504910352283989e-05, 'some': 4.504910352283989e-05, 'Kanadian': 4.504910352283989e-05, 'bringing': 4.504910352283989e-05, 'trims': 4.504910352283989e-05, 'complains': 4.504910352283989e-05, 'sail': 4.504910352283989e-05, 'strike': 4.504910352283989e-05, 'confides': 4.504910352283989e-05, 'lov': 9.009820704567979e-05, 'saunter': 4.504910352283989e-05, 'I': 4.504910352283989e-05, 'realizes': 4.504910352283989e-05, 'immerses': 4.504910352283989e-05, 'unavoidably': 4.504910352283989e-05, 'domiciles': 4.504910352283989e-05, 'answers': 4.504910352283989e-05, 'shows': 4.504910352283989e-05, 'favors': 4.504910352283989e-05, 'strangely': 4.504910352283989e-05, 'ascends': 4.504910352283989e-05, 'hardy': 4.504910352283989e-05, 'lectured': 4.504910352283989e-05, 'leans': 4.504910352283989e-05, 'wrung': 4.504910352283989e-05, 'cross': 4.504910352283989e-05, 'reaches': 4.504910352283989e-05, 'stretching': 4.504910352283989e-05, 'checks': 4.504910352283989e-05, 'withholds': 4.504910352283989e-05, 'tastes': 4.504910352283989e-05, 'look': 4.504910352283989e-05, 'going': 4.504910352283989e-05, 'triumphs': 4.504910352283989e-05, 'hops': 4.504910352283989e-05, 'presses': 4.504910352283989e-05, 'points': 4.504910352283989e-05, 'are': 4.504910352283989e-05, 'urges': 9.009820704567979e-05, 'struggles': 4.504910352283989e-05, 'speculates': 4.504910352283989e-05, 'colonizes': 4.504910352283989e-05, 'interlinks': 4.504910352283989e-05, 'reconciles': 4.504910352283989e-05})\n",
            "0.0006306874493197585\n"
          ],
          "name": "stdout"
        }
      ]
    },
    {
      "cell_type": "code",
      "metadata": {
        "id": "HdKSWVCQE0RS",
        "colab_type": "code",
        "colab": {
          "base_uri": "https://localhost:8080/",
          "height": 51
        },
        "outputId": "cf11082a-8614-4aeb-ec80-e7621bd97aa7"
      },
      "source": [
        "fivegram = modelfivegram[\"He\", \"thought\", \"that\",\"it\"]\n",
        "prob = fivegram[\"a\"]\n",
        "print(fivegram)\n",
        "print(prob)"
      ],
      "execution_count": null,
      "outputs": [
        {
          "output_type": "stream",
          "text": [
            "defaultdict(<function <lambda>.<locals>.<lambda> at 0x7fd868d388c8>, {'showed': 1.0, 'a': 0})\n",
            "0\n"
          ],
          "name": "stdout"
        }
      ]
    },
    {
      "cell_type": "code",
      "metadata": {
        "id": "xIiYWy5If3-I",
        "colab_type": "code",
        "colab": {
          "base_uri": "https://localhost:8080/",
          "height": 71
        },
        "outputId": "7a982dab-e81a-4b91-9131-82fda2e8d6f7"
      },
      "source": [
        "trigram = modeltrigram[\"He\", \"thought\"]\n",
        "prob = trigram[\"a\"]\n",
        "print(trigram)\n",
        "print(prob)"
      ],
      "execution_count": null,
      "outputs": [
        {
          "output_type": "stream",
          "text": [
            "defaultdict(<function <lambda>.<locals>.<lambda> at 0x7ffa162b0d90>, {'we': 0.045454545454545456, 'much': 0.045454545454545456, 'principally': 0.045454545454545456, 'it': 0.13636363636363635, 'she': 0.045454545454545456, 'her': 0.045454545454545456, 'of': 0.18181818181818182, ',': 0.045454545454545456, 'very': 0.045454545454545456, 'how': 0.09090909090909091, 'hazily': 0.045454545454545456, 'that': 0.09090909090909091, 'little': 0.045454545454545456, 'the': 0.045454545454545456, 'them': 0.045454545454545456, 'a': 0})\n",
            "0\n"
          ],
          "name": "stdout"
        }
      ]
    },
    {
      "cell_type": "markdown",
      "metadata": {
        "id": "82K1aB-8FL1R",
        "colab_type": "text"
      },
      "source": [
        "# N gram probs of given 2 sentences for n=1,2,3,4,5"
      ]
    },
    {
      "cell_type": "code",
      "metadata": {
        "id": "QN3N7soeig5w",
        "colab_type": "code",
        "colab": {}
      },
      "source": [
        "def LMscore(sentence1, sentence2):\n",
        "  sentence1SplittedShorter3 = sentence1.rsplit(' ', 4)[0].split()\n",
        "  sentence2SplittedShorter3 = sentence2.rsplit(' ', 4)[0].split()\n",
        "  sentence1SplittedShorter2 = sentence1.rsplit(' ', 3)[0].split()\n",
        "  sentence2SplittedShorter2 = sentence2.rsplit(' ', 3)[0].split()\n",
        "  sentence1SplittedShorter = sentence1.rsplit(' ', 2)[0].split()\n",
        "  sentence2SplittedShorter = sentence2.rsplit(' ', 2)[0].split()\n",
        "  sentence1SplittedShort = sentence1.rsplit(' ', 1)[0].split()\n",
        "  sentence2SplittedShort = sentence2.rsplit(' ', 1)[0].split()\n",
        "  sentence1Splitted = sentence1.split()\n",
        "  sentence2Splitted = sentence2.split()\n",
        "\n",
        "  # n=1 probabilities of sentence1\n",
        "  singleprobs1 = []\n",
        "  for word in sentence1Splitted:\n",
        "    prob = fdist[word]\n",
        "    if prob == 0:\n",
        "      prob =1\n",
        "    singleprobs1.append(prob/1000)\n",
        "\n",
        "  # n=2 probabilities of sentence1\n",
        "  biprobs1 = []\n",
        "  for i in range(len(sentence1SplittedShort)):\n",
        "    if (i+1) < len(sentence1Splitted):\n",
        "      word = sentence1Splitted[i]\n",
        "      next_word1 = sentence1Splitted[i + 1]\n",
        "      bigram = modelbigram[word]\n",
        "      prob = bigram[next_word1]\n",
        "      #print(word, next_word1)\n",
        "    else:\n",
        "      prob = 1\n",
        "\n",
        "    if prob == 0:\n",
        "      prob =0.001\n",
        "    biprobs1.append(prob)\n",
        "\n",
        "  # n=3 probabilities of sentence1\n",
        "  triprobs1 = []\n",
        "  for i in range(len(sentence1SplittedShorter)):\n",
        "    if (i+2) < len(sentence1Splitted):\n",
        "      word = sentence1Splitted[i]\n",
        "      next_word1 = sentence1Splitted[i + 1]\n",
        "      next_word2 = sentence1Splitted[i + 2]\n",
        "      trigram = modeltrigram[word, next_word1]\n",
        "      prob = trigram[next_word2]\n",
        "    else:\n",
        "      prob = 1\n",
        "\n",
        "    if prob == 0:\n",
        "      prob =0.001\n",
        "    triprobs1.append(prob)\n",
        "\n",
        "  # n=4 probabilities of sentence1\n",
        "  fourprobs1 = []\n",
        "  for i in range(len(sentence1SplittedShorter2)):\n",
        "    if (i+3) < len(sentence1Splitted):\n",
        "      word = sentence1Splitted[i]\n",
        "      next_word1 = sentence1Splitted[i + 1]\n",
        "      next_word2 = sentence1Splitted[i + 2]\n",
        "      next_word3 = sentence1Splitted[i + 3]\n",
        "      fourgram = modelfourgram[word, next_word1, next_word2]\n",
        "      prob = fourgram[next_word3]\n",
        "    else:\n",
        "      prob = 1\n",
        "\n",
        "    if prob == 0:\n",
        "      prob =0.001\n",
        "    fourprobs1.append(prob)\n",
        "  \n",
        "  # n=5 probabilities of sentence1\n",
        "  fiveprobs1 = []\n",
        "  for i in range(len(sentence1SplittedShorter3)):\n",
        "    if (i+4) < len(sentence1Splitted):\n",
        "      word = sentence1Splitted[i]\n",
        "      next_word1 = sentence1Splitted[i + 1]\n",
        "      next_word2 = sentence1Splitted[i + 2]\n",
        "      next_word3 = sentence1Splitted[i + 3]\n",
        "      next_word4 = sentence1Splitted[i + 4]\n",
        "      fivegram = modelfivegram[word, next_word1, next_word2, next_word3]\n",
        "      prob = fivegram[next_word4]\n",
        "    else:\n",
        "      prob = 1\n",
        "    \n",
        "    if prob == 0:\n",
        "      prob =0.001\n",
        "    fiveprobs1.append(prob)\n",
        "  \n",
        "  #####################################\n",
        "  # n=1 probabilities of sentence2\n",
        "  singleprobs2 = []\n",
        "  for word in sentence2Splitted:\n",
        "    prob = fdist[word]\n",
        "    if prob == 0:\n",
        "      prob =1\n",
        "    singleprobs2.append(prob/1000)\n",
        "\n",
        "  # n=2 probabilities of sentence2\n",
        "  biprobs2 = []\n",
        "  for i in range(len(sentence2SplittedShort)):\n",
        "    if (i+1) < len(sentence2Splitted):\n",
        "      word = sentence2Splitted[i]\n",
        "      next_word1 = sentence2Splitted[i + 1]\n",
        "      bigram = modelbigram[word]\n",
        "      prob = bigram[next_word1]\n",
        "    else:\n",
        "      prob = 1\n",
        "\n",
        "    if prob == 0:\n",
        "      prob =0.001\n",
        "    biprobs2.append(prob)\n",
        "\n",
        "  # n=3 probabilities of sentence2\n",
        "  triprobs2 = []\n",
        "  for i in range(len(sentence2SplittedShorter)):\n",
        "    if (i+2) < len(sentence2Splitted):\n",
        "      word = sentence2Splitted[i]\n",
        "      next_word1 = sentence2Splitted[i + 1]\n",
        "      next_word2 = sentence2Splitted[i + 2]\n",
        "      trigram = modeltrigram[word, next_word1]\n",
        "      prob = trigram[next_word2]\n",
        "    else:\n",
        "      prob = 1\n",
        "\n",
        "    if prob == 0:\n",
        "      prob =0.001\n",
        "    triprobs2.append(prob)\n",
        "\n",
        "  # n=4 probabilities of sentence2\n",
        "  fourprobs2 = []\n",
        "  for i in range(len(sentence2SplittedShorter2)):\n",
        "    if (i+3) < len(sentence2Splitted):\n",
        "      word = sentence2Splitted[i]\n",
        "      next_word1 = sentence2Splitted[i + 1]\n",
        "      next_word2 = sentence2Splitted[i + 2]\n",
        "      next_word3 = sentence2Splitted[i + 3]\n",
        "      fourgram = modelfourgram[word, next_word1, next_word2]\n",
        "      prob = fourgram[next_word3]\n",
        "    else:\n",
        "      prob = 1\n",
        "\n",
        "    if prob == 0:\n",
        "      prob =0.001\n",
        "    fourprobs2.append(prob)\n",
        "\n",
        "  # n=5 probabilities of sentence2\n",
        "  fiveprobs2 = []\n",
        "  for i in range(len(sentence2SplittedShorter3)):\n",
        "    if (i+4) < len(sentence2Splitted):\n",
        "      word = sentence2Splitted[i]\n",
        "      next_word1 = sentence2Splitted[i + 1]\n",
        "      next_word2 = sentence2Splitted[i + 2]\n",
        "      next_word3 = sentence2Splitted[i + 3]\n",
        "      next_word4 = sentence2Splitted[i + 4]\n",
        "      fivegram = modelfivegram[word, next_word1, next_word2, next_word3]\n",
        "      prob = fivegram[next_word4]\n",
        "    else:\n",
        "      prob = 1\n",
        "    if prob == 0:\n",
        "      prob =0.001\n",
        "    fiveprobs2.append(prob)\n",
        "\n",
        "  #print(\"xxxxxxxxxxxxxxxxxxxxxxxxxxxxxxxxxxxxxxxxxxx\")\n",
        "  #print(singleprobs1)\n",
        "  #print(biprobs1)\n",
        "  #print(triprobs1)\n",
        "  #print(fourprobs1)\n",
        "  #print(fiveprobs1)\n",
        "  #print(\"xxxxxxxxxxxxxxxxxxxxxxxxx\")\n",
        "  #print(singleprobs2)\n",
        "  #print(biprobs2)\n",
        "  #print(triprobs2)\n",
        "  #print(fourprobs2)\n",
        "  #print(fiveprobs2)\n",
        "  #print(\"xxxx\")\n",
        "  \n",
        "\n",
        "  ## MULTIPLY GRAM PROBABILITIES TO FIND N-GRAM PROBABILITY OF GIVEN FUNCTION\n",
        "  ## THEN COMBINE N GRAM PROBABILITIES FOR DIFFERENT N VALUES \n",
        "  totalprob1 = 0*np.prod(singleprobs1) + (10^3)*np.prod(biprobs1) + (10^-3)*np.prod(triprobs1) + 1*(10^-9)*np.prod(fourprobs1) + 1*(10^-90)*np.prod(fiveprobs1)\n",
        "  totalprob2 = 0*np.prod(singleprobs2) + (10^3)*np.prod(biprobs2) + (10^-3)*np.prod(triprobs2) + 1*(10^-9)*np.prod(fourprobs2) + 1*(10^-90)*np.prod(fiveprobs2)\n",
        "  result1 = totalprob1\n",
        "  result2 = totalprob2\n",
        "\n",
        "  #print(totalprob1)\n",
        "  #print(totalprob2)\n",
        "\n",
        "  if result1 > result2:\n",
        "    return 1, result1, result2 \n",
        "  else:\n",
        "    return 2 , result1, result2"
      ],
      "execution_count": null,
      "outputs": []
    },
    {
      "cell_type": "markdown",
      "metadata": {
        "id": "bROiJC54GW7J",
        "colab_type": "text"
      },
      "source": [
        "# Testing model on test pair sentences"
      ]
    },
    {
      "cell_type": "code",
      "metadata": {
        "id": "huJsnQtriiVJ",
        "colab_type": "code",
        "colab": {}
      },
      "source": [
        "# CALCULATE PREDICTIONS OF THE MODEL\n",
        "resArr = []\n",
        "from nltk.tokenize.treebank import TreebankWordDetokenizer\n",
        "tokenizer = nltk.RegexpTokenizer(r\"\\w+\")\n",
        "for i in range(len(test_pairs)):\n",
        "  sen1 = test_pairs[i][0]\n",
        "  sen2 = test_pairs[i][1]\n",
        "  \n",
        "  sen1 = tokenizer.tokenize(sen1)\n",
        "  sen2 = tokenizer.tokenize(sen2)\n",
        "  sen1 = [word.lower() for word in sen1]\n",
        "  sen2 = [word.lower() for word in sen2]\n",
        "  sen1 = TreebankWordDetokenizer().detokenize(sen1)\n",
        "  sen2 = TreebankWordDetokenizer().detokenize(sen2)\n",
        "  pr, a, b =  LMscore(sen1,sen2 )\n",
        "  #print(a,b)\n",
        "  resArr.append(pr) \n",
        "#print(resArr)"
      ],
      "execution_count": null,
      "outputs": []
    },
    {
      "cell_type": "code",
      "metadata": {
        "id": "7XzbWhhyjIjl",
        "colab_type": "code",
        "colab": {
          "base_uri": "https://localhost:8080/",
          "height": 105
        },
        "outputId": "e01dcb07-9352-47f2-e0a4-ded006629248"
      },
      "source": [
        "# SHOW ACCURACY\n",
        "with open('/content/gdrive/My Drive/Colab Notebooks/NLPproject/test_answers.pkl','rb') as pkl:\n",
        "    test_answers = pickle.load(pkl)\n",
        "\n",
        "arr1 = np.array(resArr)\n",
        "arr2 = np.array(test_answers).astype(int)\n",
        "print(test_answers)\n",
        "comparison = (arr1 == arr2).astype(int)\n",
        "print(comparison)\n",
        "sum = np.sum(comparison)\n",
        "accuracy = sum/len(comparison)\n",
        "print(accuracy)\n",
        "print(len(test_answers) , len(resArr))"
      ],
      "execution_count": null,
      "outputs": [
        {
          "output_type": "stream",
          "text": [
            "['2', '1', '2', '1', '1', '1', '1', '2', '2', '1', '2', '2', '1', '1', '2', '1', '2', '1', '1', '2', '2', '2', '2', '1', '2', '1', '1', '1', '1', '1', '1', '1', '2', '1', '2', '2', '2', '1', '2', '2', '1', '1', '2', '1', '2', '1', '2', '2', '2', '1', '1', '2', '1', '2', '1', '2', '2', '2', '1', '1', '2', '2', '2', '1', '2', '2', '1', '2', '2', '1', '1', '1', '1', '2', '1', '2', '2', '1', '2', '1', '2', '1', '2', '1', '2', '1', '2', '1', '2', '1', '1', '2', '1', '2', '1', '2', '1', '1', '2', '2', '2', '1', '2', '1', '2', '1', '1', '1', '2', '1', '2', '2', '2', '1', '2', '1', '2', '2', '1', '1', '2', '1', '2', '1', '2', '1', '2', '2', '1', '2', '2', '2', '2', '2', '2', '1', '2', '2', '1', '2', '1', '2', '2', '2', '1', '2', '2', '1', '2', '2', '1', '2', '1', '1', '1', '2', '2', '1', '2', '2', '2', '1', '1', '2', '2', '1', '1', '2', '2', '2', '2', '1', '1', '1', '1', '2', '1', '2', '1', '1', '1', '2', '1', '2', '1', '2', '2', '2', '1', '2', '1', '1', '1', '2', '1', '1', '2', '2', '1', '2', '1', '2', '2', '1', '2', '2', '1', '2', '1', '2', '1', '2', '1', '2', '1', '2', '1', '1', '2', '2', '2', '1', '1', '1', '2', '1', '2', '2', '1', '2', '2', '1', '2', '1', '2', '2', '1', '2', '1', '1', '2', '1', '2', '2', '1', '2', '1', '1', '1', '2', '1', '2', '1', '1', '2', '1', '2', '2', '1', '2', '1', '1', '1', '1', '2', '1', '2', '2', '1', '1', '1', '2', '1', '1', '1', '1', '2', '2', '1', '1', '2', '1', '2', '1', '1', '1', '1', '2', '1', '1', '1', '1', '2', '1', '1', '2', '2', '1', '2', '2', '1', '1', '2', '1', '2', '1', '1', '2', '2', '1', '2', '1', '2', '2', '1', '1', '2', '1', '1', '1', '2', '1', '2', '2', '1', '2', '1', '2', '1', '1', '2', '1', '2', '2', '2', '1', '1', '1', '1', '2', '2', '1', '1', '2', '1', '1', '2', '2', '1', '1', '2', '1', '2', '2', '1', '1', '1', '2', '1', '1', '2', '1', '2', '1', '2', '2', '2', '2', '1', '2', '1', '1', '2', '1', '2', '1', '2', '1', '1', '1', '2', '2', '2', '1', '1', '1', '2', '2', '1', '1', '2', '1', '1', '2', '1', '2', '1', '1', '2', '2', '2', '2', '1', '2', '1', '1', '2', '2', '2', '2', '1', '1', '2', '1', '2', '2', '1', '1', '1', '2', '2', '2', '1', '1', '1', '1', '2', '1', '2', '2', '1', '2', '2', '2', '1', '2', '1', '2', '2', '1', '2', '1', '2', '2', '1', '2', '1', '2', '1', '2', '2', '2', '1', '1', '2', '2', '1', '2', '1', '1', '2', '1', '2', '2', '2', '2', '1', '2', '2', '2', '2', '1', '2', '1', '1', '2', '1', '1', '1', '2', '2', '2', '1', '2', '1', '2', '1', '2', '1', '2', '1', '1', '2', '2', '1', '2', '2', '1', '2', '1', '2', '2', '2', '1', '1', '2', '2', '2', '1', '1', '1', '2', '1', '2', '2', '1', '2', '2', '1', '1', '2', '1', '1', '1', '2', '1', '2', '2', '1', '2', '2', '2', '1', '2', '2', '1', '2', '1', '2', '1', '2', '2', '1', '2', '1', '2', '2', '1', '2', '2', '1', '2', '2', '1', '1', '2', '1', '1', '2', '2', '1', '2', '1', '2', '1', '2', '2', '1', '1', '2', '1', '2', '1', '2', '1', '2', '1', '2', '2', '1', '1', '2', '2', '1', '2', '1', '1', '2', '2', '2', '2', '1', '1', '1', '2', '2', '2', '1', '1', '1', '1', '2', '2', '1', '2', '1', '1', '1', '2', '2', '2', '2', '2', '1', '2', '1', '1', '2', '2', '2', '1', '1', '1', '2', '1', '2', '2', '2', '1', '1', '2', '1', '2', '2', '1', '1', '2', '1', '1', '1', '2', '2', '2', '1', '1', '1', '2', '1', '2', '1', '2', '2', '1', '2', '1', '2', '1', '2', '1', '2', '1', '2', '1', '2', '1', '1', '2', '1', '1', '1', '1', '1', '1', '2', '1', '1', '2', '1', '2', '1', '1', '2', '1', '1', '1', '1', '1', '1', '2', '1', '2', '2', '1', '1', '2', '2', '2', '1', '2', '2', '1', '2', '1', '1', '2', '2', '1', '2', '1', '1', '2', '1', '1', '2', '2', '1', '1', '1', '1', '2', '2', '1', '1', '2', '1', '1', '1', '2', '2', '1', '1', '2', '2', '1', '2', '2', '1', '2', '2', '2', '1', '1', '1', '2', '1', '2', '1', '2', '1', '2', '2', '1', '1', '1', '2', '1', '1', '2', '2', '1', '2', '1', '1', '2', '1', '2', '1', '1', '2', '2', '2', '1', '1', '2', '1', '2', '1', '1', '2', '1', '1', '2', '2', '2', '1', '2', '1', '2', '1', '1', '2', '2', '1', '2', '2', '1', '2', '2', '1', '2', '1', '2', '1', '2', '1', '1', '2', '2', '1', '2', '2', '1', '1', '1', '2', '2', '1', '2', '2', '1', '1', '2', '2', '1', '1', '1', '1', '1', '2', '1', '2', '1', '1', '1', '1', '1', '1', '1', '2', '2', '1', '1', '2', '1', '2', '2', '1', '2', '1', '2', '2', '2', '1', '1', '2', '1', '2', '2', '1', '2', '2', '2', '1', '1', '2', '2', '1', '1', '1', '1', '2', '2', '1', '2', '1', '2', '2', '1', '2', '2', '2', '1', '1', '2', '1', '2', '2', '2', '2', '2', '2', '2', '2', '2', '1', '2', '1', '2', '2', '2', '1', '2', '2', '1', '2', '2', '2', '1', '2', '1', '1', '2', '2', '1', '1', '2', '1', '1', '2', '2', '1', '2', '1', '2', '2', '2', '2', '2', '2', '1', '2', '2', '1', '1', '1', '1', '2', '2', '1', '2', '2', '2', '1', '2', '2', '2', '1', '2', '1', '2', '1', '2', '2', '2', '1', '2', '1', '1', '2', '1', '2', '1', '2', '2', '2', '2', '1', '1', '2', '2', '1', '2', '2', '1', '1', '2', '2', '1', '2', '2', '1', '2', '1', '1', '2', '1', '1', '2', '1', '1', '2', '1', '2', '1', '1', '1', '2', '1', '1', '1', '2', '2', '1', '2', '1', '2', '1', '2', '2', '2', '1', '1', '2', '1', '2', '2', '2', '1', '2', '1', '2', '2', '1', '1', '2', '1', '2', '2', '2', '1', '2', '2', '1', '1', '1', '1', '2', '1', '2', '2', '2', '1', '2', '1', '2', '1', '1', '2', '1', '1', '1', '1', '2', '2', '1', '2', '1', '2', '1', '1', '1', '2', '1', '1', '1', '2', '1', '2', '1', '1', '2', '2', '2', '2', '2', '1', '2', '2', '1', '1', '1', '2', '2', '1', '1', '1', '2', '2', '1', '2', '2', '2', '2', '2', '1', '1', '2', '1', '1', '1', '1', '2', '2', '1', '2', '2', '1', '2', '2', '1', '1', '2', '1', '2', '1', '2', '2', '1', '1', '2', '1', '1', '1', '2', '1', '2', '2', '2', '1', '1', '1', '2', '1', '1', '2', '1', '2', '2', '2', '2', '1', '1', '1', '2', '2', '1', '2', '2', '2', '2', '1', '1', '2', '1', '1', '1', '2', '1', '2', '1', '2', '1', '2', '1', '1', '2', '1', '1', '2', '1', '2', '2', '2', '2', '2', '2', '2', '1', '1', '1', '1', '1', '1', '2', '1', '1', '2', '1', '1', '2', '1', '2', '2', '2', '2', '1', '1', '2', '2', '1', '1', '2', '2', '2', '1', '2', '1', '1', '1', '2', '1', '2', '2', '1', '1', '1', '2', '1', '1', '1', '2', '2', '1', '1', '2', '1', '2', '1', '1', '1', '2', '1', '2', '2', '1', '2', '1', '2', '2', '2', '1', '1', '2', '2', '1', '2', '1', '1', '1', '2', '2', '2', '1', '1', '2', '2', '1', '2', '2', '1', '2', '1', '1', '1', '1', '1', '2']\n",
            "[0 1 1 ... 0 1 0]\n",
            "0.5027624309392266\n",
            "1267 1267\n"
          ],
          "name": "stdout"
        }
      ]
    }
  ]
}